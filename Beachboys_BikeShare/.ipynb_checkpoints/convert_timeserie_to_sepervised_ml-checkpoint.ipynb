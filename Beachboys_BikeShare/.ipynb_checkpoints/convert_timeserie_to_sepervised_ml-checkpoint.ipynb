{
 "cells": [
  {
   "cell_type": "code",
   "execution_count": 1,
   "metadata": {},
   "outputs": [
    {
     "name": "stdout",
     "output_type": "stream",
     "text": [
      "   t\n",
      "0  0\n",
      "1  1\n",
      "2  2\n",
      "3  3\n",
      "4  4\n",
      "5  5\n",
      "6  6\n",
      "7  7\n",
      "8  8\n",
      "9  9\n"
     ]
    }
   ],
   "source": [
    "from pandas import DataFrame\n",
    "\n",
    "df = DataFrame()\n",
    "df['t'] = [x for x in range(10)]\n",
    "print(df)"
   ]
  },
  {
   "cell_type": "markdown",
   "metadata": {},
   "source": [
    "shift all the observations down by one time step by inserting one new row at the top. Because the new row has no data, we can use NaN to represent “no data”.  \n",
    "\n",
    "shifting the series forward one time step gives us a primitive supervised learning problem, although with X and y in the wrong order. Ignore the column of row labels. The first row would have to be discarded because of the NaN value. The second row shows the input value of 0.0 in the second column (input or X) and the value of 1 in the first column (output or y)."
   ]
  },
  {
   "cell_type": "code",
   "execution_count": 2,
   "metadata": {},
   "outputs": [
    {
     "name": "stdout",
     "output_type": "stream",
     "text": [
      "   t  t-1\n",
      "0  0  NaN\n",
      "1  1  0.0\n",
      "2  2  1.0\n",
      "3  3  2.0\n",
      "4  4  3.0\n",
      "5  5  4.0\n",
      "6  6  5.0\n",
      "7  7  6.0\n",
      "8  8  7.0\n",
      "9  9  8.0\n"
     ]
    }
   ],
   "source": [
    "from pandas import DataFrame\n",
    "df = DataFrame()\n",
    "df['t'] = [x for x in range(10)]\n",
    "df['t-1'] = df['t'].shift(1)\n",
    "print(df)"
   ]
  },
  {
   "cell_type": "markdown",
   "metadata": {},
   "source": [
    "We can see that if we can repeat this process with shifts of 2, 3, and more, how we could create long input sequences (X) that can be used to forecast an output value (y).\n",
    "\n",
    "The shift operator can also accept a negative integer value. This has the effect of pulling the observations up by inserting new rows at the end. Below is an example:"
   ]
  },
  {
   "cell_type": "code",
   "execution_count": 3,
   "metadata": {},
   "outputs": [
    {
     "name": "stdout",
     "output_type": "stream",
     "text": [
      "   t  t+1\n",
      "0  0  1.0\n",
      "1  1  2.0\n",
      "2  2  3.0\n",
      "3  3  4.0\n",
      "4  4  5.0\n",
      "5  5  6.0\n",
      "6  6  7.0\n",
      "7  7  8.0\n",
      "8  8  9.0\n",
      "9  9  NaN\n"
     ]
    }
   ],
   "source": [
    "from pandas import DataFrame\n",
    "df = DataFrame()\n",
    "df['t'] = [x for x in range(10)]\n",
    "df['t+1'] = df['t'].shift(-1)\n",
    "print(df)"
   ]
  },
  {
   "cell_type": "markdown",
   "metadata": {},
   "source": [
    "Technically, in time series forecasting terminology the current time (t) and future times (t+1, t+n) are forecast times and past observations (t-1, t-n) are used to make forecasts.\n",
    "\n",
    "We can see how positive and negative shifts can be used to create a new DataFrame from a time series with sequences of input and output patterns for a supervised learning problem.\n",
    "\n",
    "This permits not only classical X -> y prediction, but also X -> Y where both input and output can be sequences.\n",
    "\n",
    "Further, the shift function also works on so-called multivariate time series problems. That is where instead of having one set of observations for a time series, we have multiple (e.g. temperature and pressure). All variates in the time series can be shifted forward or backward to create multivariate input and output sequences. We will explore this more later in the tutorial."
   ]
  },
  {
   "cell_type": "code",
   "execution_count": 9,
   "metadata": {},
   "outputs": [],
   "source": [
    "from pandas import DataFrame\n",
    "from pandas import concat\n",
    "\n",
    "def series_to_supervised(data, n_in=1, n_out=1, dropnan=True):\n",
    "\t\"\"\"\n",
    "\tFrame a time series as a supervised learning dataset.\n",
    "\tArguments:\n",
    "\t\tdata: Sequence of observations as a list or NumPy array.\n",
    "\t\tn_in: Number of lag observations as input (X).\n",
    "\t\tn_out: Number of observations as output (y).\n",
    "\t\tdropnan: Boolean whether or not to drop rows with NaN values.\n",
    "\tReturns:\n",
    "\t\tPandas DataFrame of series framed for supervised learning.\n",
    "\t\"\"\"\n",
    "\tn_vars = 1 if type(data) is list else data.shape[1]\n",
    "\tdf = DataFrame(data)\n",
    "\tcols, names = list(), list()\n",
    "\t# input sequence (t-n, ... t-1)\n",
    "\tfor i in range(n_in, 0, -1):\n",
    "\t\tcols.append(df.shift(i))\n",
    "\t\tnames += [('var%d(t-%d)' % (j+1, i)) for j in range(n_vars)]\n",
    "\t# forecast sequence (t, t+1, ... t+n)\n",
    "\tfor i in range(0, n_out):\n",
    "\t\tcols.append(df.shift(-i))\n",
    "\t\tif i == 0:\n",
    "\t\t\tnames += [('var%d(t)' % (j+1)) for j in range(n_vars)]\n",
    "\t\telse:\n",
    "\t\t\tnames += [('var%d(t+%d)' % (j+1, i)) for j in range(n_vars)]\n",
    "\t# put it all together\n",
    "\tagg = concat(cols, axis=1)\n",
    "\tagg.columns = names\n",
    "\t# drop rows with NaN values\n",
    "\tif dropnan:\n",
    "\t\tagg.dropna(inplace=True)\n",
    "\treturn agg"
   ]
  },
  {
   "cell_type": "markdown",
   "metadata": {},
   "source": [
    "## One-Step Univariate Forecasting"
   ]
  },
  {
   "cell_type": "markdown",
   "metadata": {},
   "source": [
    "It is standard practice in time series forecasting to use lagged observations (e.g. t-1) as input variables to forecast the current time step (t).\n",
    "\n",
    "This is called one-step forecasting.\n",
    "\n",
    "The example below demonstrates a one lag time step (t-1) to predict the current time step (t)."
   ]
  },
  {
   "cell_type": "code",
   "execution_count": 6,
   "metadata": {},
   "outputs": [
    {
     "name": "stdout",
     "output_type": "stream",
     "text": [
      "   var1(t-1)  var1(t)\n",
      "1        0.0        1\n",
      "2        1.0        2\n",
      "3        2.0        3\n",
      "4        3.0        4\n",
      "5        4.0        5\n",
      "6        5.0        6\n",
      "7        6.0        7\n",
      "8        7.0        8\n",
      "9        8.0        9\n"
     ]
    }
   ],
   "source": [
    "values = [x for x in range(10)]\n",
    "data = series_to_supervised(values)\n",
    "print(data)"
   ]
  },
  {
   "cell_type": "code",
   "execution_count": 10,
   "metadata": {},
   "outputs": [
    {
     "name": "stdout",
     "output_type": "stream",
     "text": [
      "   var1(t-3)  var1(t-2)  var1(t-1)  var1(t)\n",
      "3        0.0        1.0        2.0        3\n",
      "4        1.0        2.0        3.0        4\n",
      "5        2.0        3.0        4.0        5\n",
      "6        3.0        4.0        5.0        6\n",
      "7        4.0        5.0        6.0        7\n",
      "8        5.0        6.0        7.0        8\n",
      "9        6.0        7.0        8.0        9\n"
     ]
    }
   ],
   "source": [
    "values = [x for x in range(10)]\n",
    "data = series_to_supervised(values, 3)\n",
    "print(data)"
   ]
  },
  {
   "cell_type": "markdown",
   "metadata": {},
   "source": [
    "## Multi-Step or Sequence Forecasting\n",
    "\n",
    "A different type of forecasting problem is using past observations to forecast a sequence of future observations.\n",
    "\n",
    "This may be called sequence forecasting or multi-step forecasting.\n",
    "\n",
    "We can frame a time series for sequence forecasting by specifying another argument. For example, we could frame a forecast problem with an input sequence of 2 past observations to forecast 2 future observations as follows:"
   ]
  },
  {
   "cell_type": "code",
   "execution_count": 11,
   "metadata": {},
   "outputs": [
    {
     "name": "stdout",
     "output_type": "stream",
     "text": [
      "   var1(t-2)  var1(t-1)  var1(t)  var1(t+1)\n",
      "2        0.0        1.0        2        3.0\n",
      "3        1.0        2.0        3        4.0\n",
      "4        2.0        3.0        4        5.0\n",
      "5        3.0        4.0        5        6.0\n",
      "6        4.0        5.0        6        7.0\n",
      "7        5.0        6.0        7        8.0\n",
      "8        6.0        7.0        8        9.0\n"
     ]
    }
   ],
   "source": [
    "data = series_to_supervised(values, 2, 2)\n",
    "print(data)"
   ]
  },
  {
   "cell_type": "markdown",
   "metadata": {},
   "source": [
    "## Multivariate Forecasting\n",
    "\n",
    "Another important type of time series is called multivariate time series.\n",
    "\n",
    "This is where we may have observations of multiple different measures and an interest in forecasting one or more of them.\n",
    "\n",
    "For example, we may have two sets of time series observations obs1 and obs2 and we wish to forecast one or both of these.\n",
    "\n",
    "We can call series_to_supervised() in exactly the same way."
   ]
  },
  {
   "cell_type": "code",
   "execution_count": 12,
   "metadata": {},
   "outputs": [
    {
     "name": "stdout",
     "output_type": "stream",
     "text": [
      "   var1(t-1)  var2(t-1)  var1(t)  var2(t)\n",
      "1        0.0       50.0        1       51\n",
      "2        1.0       51.0        2       52\n",
      "3        2.0       52.0        3       53\n",
      "4        3.0       53.0        4       54\n",
      "5        4.0       54.0        5       55\n",
      "6        5.0       55.0        6       56\n",
      "7        6.0       56.0        7       57\n",
      "8        7.0       57.0        8       58\n",
      "9        8.0       58.0        9       59\n"
     ]
    }
   ],
   "source": [
    "raw = DataFrame()\n",
    "raw['ob1'] = [x for x in range(10)]\n",
    "raw['ob2'] = [x for x in range(50, 60)]\n",
    "values = raw.values\n",
    "data = series_to_supervised(values)\n",
    "print(data)"
   ]
  },
  {
   "cell_type": "code",
   "execution_count": 13,
   "metadata": {},
   "outputs": [
    {
     "name": "stdout",
     "output_type": "stream",
     "text": [
      "   var1(t-1)  var2(t-1)  var1(t)  var2(t)  var1(t+1)  var2(t+1)\n",
      "1        0.0       50.0        1       51        2.0       52.0\n",
      "2        1.0       51.0        2       52        3.0       53.0\n",
      "3        2.0       52.0        3       53        4.0       54.0\n",
      "4        3.0       53.0        4       54        5.0       55.0\n",
      "5        4.0       54.0        5       55        6.0       56.0\n",
      "6        5.0       55.0        6       56        7.0       57.0\n",
      "7        6.0       56.0        7       57        8.0       58.0\n",
      "8        7.0       57.0        8       58        9.0       59.0\n"
     ]
    }
   ],
   "source": [
    "data = series_to_supervised(values, 1, 2)\n",
    "print(data)"
   ]
  },
  {
   "cell_type": "code",
   "execution_count": null,
   "metadata": {},
   "outputs": [],
   "source": []
  }
 ],
 "metadata": {
  "kernelspec": {
   "display_name": "Python 3",
   "language": "python",
   "name": "python3"
  },
  "language_info": {
   "codemirror_mode": {
    "name": "ipython",
    "version": 3
   },
   "file_extension": ".py",
   "mimetype": "text/x-python",
   "name": "python",
   "nbconvert_exporter": "python",
   "pygments_lexer": "ipython3",
   "version": "3.7.4"
  }
 },
 "nbformat": 4,
 "nbformat_minor": 4
}
