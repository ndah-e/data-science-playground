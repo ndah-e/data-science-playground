{
 "cells": [
  {
   "cell_type": "code",
   "execution_count": 1,
   "metadata": {},
   "outputs": [],
   "source": [
    "#import sys\n",
    "#sys.path.append('C:\\\\Users\\\\ndah\\\\Dropbox\\\\PROJECTS\\\\0.GITHUB\\python_modules\\\\correlation')"
   ]
  },
  {
   "cell_type": "code",
   "execution_count": 2,
   "metadata": {},
   "outputs": [],
   "source": [
    "#import correlation"
   ]
  },
  {
   "cell_type": "code",
   "execution_count": 3,
   "metadata": {},
   "outputs": [],
   "source": [
    "import pandas as pd \n",
    "import numpy as np\n",
    "\n",
    "from numpy import loadtxt\n",
    "from numpy import sort\n",
    "\n",
    "import matplotlib\n",
    "import matplotlib.pyplot as plt\n",
    "import seaborn as sns\n",
    "%matplotlib inline \n",
    "\n",
    "from sklearn.model_selection import train_test_split\n",
    "from sklearn.feature_selection import SelectFromModel\n",
    "from xgboost import XGBClassifier\n",
    "from sklearn.metrics import accuracy_score\n",
    "\n",
    "\n",
    "\n",
    "import warnings\n",
    "warnings.filterwarnings(\"ignore\", category=DeprecationWarning)\n",
    "\n",
    "# hidden neuron selection\n",
    "# one could get decent performance by setting the hidden layer configuration using just two rules: \n",
    "#(i) number of hidden layers equals one; and \n",
    "#(ii) the number of neurons in that layer is the mean of the neurons in the input and output layers."
   ]
  },
  {
   "cell_type": "code",
   "execution_count": 4,
   "metadata": {},
   "outputs": [],
   "source": [
    "\n",
    "def feature_selection_new(model, feature_importances, x_train, y_train, x_test, y_test, percent_increase=1):\n",
    "    \n",
    "    n_features = 1\n",
    "    best_threshold = 0\n",
    "    default_auc = 1\n",
    "    features = [feature_importances.feature[0],feature_importances.feature[1]]\n",
    "    \n",
    "    thresholds = feature_importances.importance\n",
    "    #thresholds = sort(model.feature_importances_)\n",
    "    for feat in feature_importances.feature[2:,]:\n",
    "    \n",
    "        \n",
    "        selection = SelectFromModel(model, threshold=thresh, prefit=True)\n",
    "        select_X_train = selection.transform(x_train)\n",
    "        \n",
    "        # train model\n",
    "        selection_model = XGBClassifier(seed=12)\n",
    "        selection_model.fit(select_X_train, y_train)\n",
    "        \n",
    "        # evaluate on training set\n",
    "        probs_tr = selection_model.predict_proba(select_X_train)\n",
    "        probs_tr = probs_tr[:, 1]\n",
    "        auc_tr = 100*roc_auc_score(y_train, probs_tr)\n",
    "\n",
    "        # eval model on test set\n",
    "        select_X_test = selection.transform(x_test)\n",
    "        probs = selection_model.predict_proba(select_X_test)\n",
    "        probs = probs[:, 1]\n",
    "        auc = 100*roc_auc_score(y_test, probs)\n",
    "\n",
    "        #print(\"Thresh=%.3f, n=%d, AUC: %.2f%%\" % (thresh, select_X_train.shape[1], auc*100.0))\n",
    "        \n",
    "        current_percent_increase = 100*(auc - default_auc)/default_auc\n",
    "        \n",
    "        if current_percent_increase >= percent_increase:\n",
    "        #if auc/auc_tr >= 0.95:\n",
    "            default_auc = auc\n",
    "            best_threshold = thresh\n",
    "            n_features = select_X_train.shape[1]\n",
    "            features.append(feature_importances.feature[n_features])\n",
    "\n",
    "    best_threshold = round(best_threshold,4)\n",
    "    print(\"Best results: \")\n",
    "    print(\"Thresh=%.3f, n=%d, AUC: %.2f%%\" % (best_threshold, n_features, default_auc))\n",
    "\n",
    "    return features\n",
    "\n"
   ]
  },
  {
   "cell_type": "code",
   "execution_count": 5,
   "metadata": {},
   "outputs": [],
   "source": [
    "def correlated_variables (data, corr_limit=0.6):\n",
    "    \n",
    "    corr_matrix = data.corr()\n",
    "    #corr_matrix = pd.DataFrame(np.triu(data.corr()))\n",
    "    flat_cm = corr_matrix.stack().reset_index()\n",
    "    flat_cm.columns = ['variable1', 'variable2', 'correlation']\n",
    "    flat_cm.correlation = abs(flat_cm.correlation)\n",
    "    flat_cm = flat_cm.loc[flat_cm.correlation < 1]\n",
    "\n",
    "    flat_cm = flat_cm.sort_values(by='correlation', ascending=False)\n",
    "    \n",
    "    return flat_cm[flat_cm.correlation >= corr_limit]\n",
    "\n",
    "    #return flat_cm"
   ]
  },
  {
   "cell_type": "code",
   "execution_count": 6,
   "metadata": {},
   "outputs": [],
   "source": [
    "\n",
    "def feature_selection(model, feature_importances, x_train, y_train, x_test, y_test, percent_increase=1):\n",
    "    \n",
    "    n_features = 1\n",
    "    best_threshold = 0\n",
    "    default_accuracy = 1\n",
    "    #features = [feature_importances.feature[0]]\n",
    "    \n",
    "    thresholds = feature_importances.importance\n",
    "    #thresholds = sort(model.feature_importances_)\n",
    "    for thresh in thresholds:\n",
    "        \n",
    "        selection = SelectFromModel(model, threshold=thresh, prefit=True)\n",
    "        select_X_train = selection.transform(x_train)\n",
    "        \n",
    "        # train model\n",
    "        selection_model = XGBClassifier(seed=12)\n",
    "        selection_model.fit(select_X_train, y_train)\n",
    "\n",
    "        # eval model\n",
    "        select_X_test = selection.transform(x_test)\n",
    "        y_pred = selection_model.predict(select_X_test)\n",
    "        accuracy = 100*accuracy_score(y_test, y_pred)\n",
    "        \n",
    "        if default_accuracy < accuracy:\n",
    "            default_accuracy = accuracy\n",
    "            best_threshold = thresh\n",
    "            number_of_var = select_X_train.shape[1]\n",
    "\n",
    "    best_threshold = round(best_threshold,4)\n",
    "    print(\"Best results: \")\n",
    "    print(\"Thresh=%.3f, n=%d, AUC: %.2f%%\" % (best_threshold, n_features,default_accuracy))\n",
    "\n",
    "    features = feature_importances.feature[:n_features]\n",
    "    \n",
    "    return features\n",
    "\n"
   ]
  },
  {
   "cell_type": "code",
   "execution_count": 7,
   "metadata": {},
   "outputs": [
    {
     "name": "stderr",
     "output_type": "stream",
     "text": [
      "D:\\ProgramFiles\\Anaconda3\\lib\\site-packages\\IPython\\core\\interactiveshell.py:3063: DtypeWarning: Columns (38,60) have mixed types.Specify dtype option on import or set low_memory=False.\n",
      "  interactivity=interactivity, compiler=compiler, result=result)\n"
     ]
    }
   ],
   "source": [
    "df = pd.read_csv('data/FootballEurope.csv') \n",
    "\n",
    "#df.loc[df.homeGoalFT - df.awayGoalFT > 0, 'FTR'] = 0\n",
    "#df.loc[df.homeGoalFT - df.awayGoalFT == 0, 'FTR'] = 1 \n",
    "#df.loc[df.homeGoalFT - df.awayGoalFT < 0, 'FTR'] = 2\n",
    "\n",
    "#df.division.unique()\n",
    "df.loc[df.homeGoalFT - df.awayGoalFT > 0, 'FTR'] = 'H' \n",
    "df.loc[df.homeGoalFT - df.awayGoalFT == 0, 'FTR'] = 'D' \n",
    "df.loc[df.homeGoalFT - df.awayGoalFT < 0, 'FTR'] = 'A'\n",
    "\n",
    "df['FTG'] = df.homeGoalFT + df.awayGoalFT\n",
    "### calcultae shot accuracy"
   ]
  },
  {
   "cell_type": "code",
   "execution_count": 8,
   "metadata": {},
   "outputs": [],
   "source": [
    "cols = ['id','homeTeamLineUp', 'awayTeamLineUp', 'homeFormation', 'awayFormation','awayManagerName','homeManagerName', \n",
    "        'venueName','date','awayGoalHT', 'homeGoalHT','homeGoalFT', 'awayGoalFT', 'homeTeam', 'awayTeam', 'refereeName']"
   ]
  },
  {
   "cell_type": "code",
   "execution_count": 9,
   "metadata": {},
   "outputs": [
    {
     "data": {
      "text/html": [
       "<div>\n",
       "<style scoped>\n",
       "    .dataframe tbody tr th:only-of-type {\n",
       "        vertical-align: middle;\n",
       "    }\n",
       "\n",
       "    .dataframe tbody tr th {\n",
       "        vertical-align: top;\n",
       "    }\n",
       "\n",
       "    .dataframe thead th {\n",
       "        text-align: right;\n",
       "    }\n",
       "</style>\n",
       "<table border=\"1\" class=\"dataframe\">\n",
       "  <thead>\n",
       "    <tr style=\"text-align: right;\">\n",
       "      <th></th>\n",
       "      <th>Feature</th>\n",
       "      <th>type</th>\n",
       "    </tr>\n",
       "  </thead>\n",
       "  <tbody>\n",
       "    <tr>\n",
       "      <th>0</th>\n",
       "      <td>id</td>\n",
       "      <td>int64</td>\n",
       "    </tr>\n",
       "    <tr>\n",
       "      <th>1</th>\n",
       "      <td>homeTacklesTotalHT</td>\n",
       "      <td>int64</td>\n",
       "    </tr>\n",
       "    <tr>\n",
       "      <th>2</th>\n",
       "      <td>homeShotsTotalHT</td>\n",
       "      <td>int64</td>\n",
       "    </tr>\n",
       "    <tr>\n",
       "      <th>3</th>\n",
       "      <td>awayDispossessedFT</td>\n",
       "      <td>float64</td>\n",
       "    </tr>\n",
       "    <tr>\n",
       "      <th>4</th>\n",
       "      <td>awayPassSuccessFT</td>\n",
       "      <td>float64</td>\n",
       "    </tr>\n",
       "  </tbody>\n",
       "</table>\n",
       "</div>"
      ],
      "text/plain": [
       "              Feature     type\n",
       "0                  id    int64\n",
       "1  homeTacklesTotalHT    int64\n",
       "2    homeShotsTotalHT    int64\n",
       "3  awayDispossessedFT  float64\n",
       "4   awayPassSuccessFT  float64"
      ]
     },
     "execution_count": 9,
     "metadata": {},
     "output_type": "execute_result"
    }
   ],
   "source": [
    "data_types = pd.DataFrame(df.dtypes)\n",
    "data_types.reset_index(inplace=True)\n",
    "data_types.columns = ['Feature', 'type']\n",
    "data_types.head()"
   ]
  },
  {
   "cell_type": "code",
   "execution_count": 10,
   "metadata": {},
   "outputs": [],
   "source": [
    "cols_halftime = [col for col in df.columns if col[-2:] == 'HT']\n",
    "cols_to_drop = cols + cols_halftime\n",
    "\n",
    "# drop unused variables\n",
    "df = df.drop(cols_to_drop , axis=1)\n",
    "#df = df.dropna()"
   ]
  },
  {
   "cell_type": "markdown",
   "metadata": {},
   "source": [
    "#### Feature engineering"
   ]
  },
  {
   "cell_type": "code",
   "execution_count": 11,
   "metadata": {},
   "outputs": [
    {
     "data": {
      "text/plain": [
       "['awayShotsOnTargetFT',\n",
       " 'awayShotsBlockedFT',\n",
       " 'homeShotsBlockedFT',\n",
       " 'homeShotsTotalFT',\n",
       " 'homeShotsOnTargetFT',\n",
       " 'awayShotsTotalFT']"
      ]
     },
     "execution_count": 11,
     "metadata": {},
     "output_type": "execute_result"
    }
   ],
   "source": [
    "# get shots vraibles\n",
    "cols_shots = [col for col in df.columns if'Shot' in col]\n",
    "cols_shots"
   ]
  },
  {
   "cell_type": "markdown",
   "metadata": {},
   "source": [
    "### Combine all top 5 "
   ]
  },
  {
   "cell_type": "code",
   "execution_count": 12,
   "metadata": {},
   "outputs": [
    {
     "name": "stdout",
     "output_type": "stream",
     "text": [
      "Accuracy: 72.20%\n"
     ]
    },
    {
     "data": {
      "text/plain": [
       "Text(0.5, 1.0, 'Features Importance ')"
      ]
     },
     "execution_count": 12,
     "metadata": {},
     "output_type": "execute_result"
    },
    {
     "data": {
      "image/png": "[encoded data removed]",
      "text/plain": [
       "<Figure size 1080x864 with 1 Axes>"
      ]
     },
     "metadata": {
      "needs_background": "light"
     },
     "output_type": "display_data"
    }
   ],
   "source": [
    "\n",
    "# split data into train and test sets\n",
    "# drop response variable\n",
    "res_var = 'FTR'\n",
    "data_train = df.dropna()\n",
    "response = np.array(data_train[res_var])\n",
    "data_train = data_train.drop(['FTR', 'FTG','division'] , axis=1)\n",
    "\n",
    "x_train, x_test, y_train, y_test = train_test_split(data_train, response, train_size=0.85,test_size=0.15, random_state=12)\n",
    "\n",
    "# fit model on all training data\n",
    "model = XGBClassifier()\n",
    "model.fit(x_train, y_train)\n",
    "\n",
    "# make predictions for test data and evaluate\n",
    "y_pred = model.predict(x_test)\n",
    "accuracy = accuracy_score(y_test, y_pred)\n",
    "print(\"Accuracy: %.2f%%\" % (accuracy * 100.0))\n",
    "\n",
    "feature_importance = pd.DataFrame({'feature':x_train.columns,\n",
    "                                   'importance':model.feature_importances_}).sort_values(by='importance', ascending=False)\n",
    "plt.subplots(figsize=(15, 12))\n",
    "sns.barplot(x=\"importance\", y=\"feature\", data=feature_importance.head(20))\n",
    "plt.title('Features Importance ')"
   ]
  },
  {
   "cell_type": "code",
   "execution_count": 13,
   "metadata": {},
   "outputs": [
    {
     "name": "stdout",
     "output_type": "stream",
     "text": [
      "Thresh=0.187, n=2, Accuracy: 69.94%\n",
      "Thresh=0.055, n=3, Accuracy: 69.62%\n",
      "Thresh=0.045, n=4, Accuracy: 72.04%\n",
      "Thresh=0.023, n=5, Accuracy: 71.96%\n",
      "Thresh=0.019, n=6, Accuracy: 72.20%\n",
      "Thresh=0.018, n=7, Accuracy: 72.36%\n",
      "Thresh=0.017, n=8, Accuracy: 72.36%\n",
      "Thresh=0.017, n=9, Accuracy: 72.04%\n",
      "Thresh=0.016, n=10, Accuracy: 72.44%\n"
     ]
    }
   ],
   "source": [
    "# Fit model using each importance as a threshold\n",
    "#thresholds = sort(model.feature_importances_)\n",
    "thresholds = feature_importance.importance\n",
    "for thresh in thresholds[1:10]:\n",
    "    # select features using threshold\n",
    "    selection = SelectFromModel(model, threshold=thresh, prefit=True)\n",
    "    select_X_train = selection.transform(x_train)\n",
    "    # train model\n",
    "    selection_model = XGBClassifier()\n",
    "    selection_model.fit(select_X_train, y_train)\n",
    "    # eval model\n",
    "    select_X_test = selection.transform(x_test)\n",
    "    y_pred = selection_model.predict(select_X_test)\n",
    "    accuracy = accuracy_score(y_test, y_pred)\n",
    "    print(\"Thresh=%.3f, n=%d, Accuracy: %.2f%%\" % (thresh, select_X_train.shape[1], accuracy*100.0))"
   ]
  },
  {
   "cell_type": "code",
   "execution_count": 14,
   "metadata": {},
   "outputs": [],
   "source": [
    "sel_var = feature_importance.feature[:6]"
   ]
  },
  {
   "cell_type": "code",
   "execution_count": 15,
   "metadata": {},
   "outputs": [
    {
     "data": {
      "text/html": [
       "<div>\n",
       "<style scoped>\n",
       "    .dataframe tbody tr th:only-of-type {\n",
       "        vertical-align: middle;\n",
       "    }\n",
       "\n",
       "    .dataframe tbody tr th {\n",
       "        vertical-align: top;\n",
       "    }\n",
       "\n",
       "    .dataframe thead th {\n",
       "        text-align: right;\n",
       "    }\n",
       "</style>\n",
       "<table border=\"1\" class=\"dataframe\">\n",
       "  <thead>\n",
       "    <tr style=\"text-align: right;\">\n",
       "      <th></th>\n",
       "      <th>variable1</th>\n",
       "      <th>variable2</th>\n",
       "      <th>correlation</th>\n",
       "    </tr>\n",
       "  </thead>\n",
       "  <tbody>\n",
       "    <tr>\n",
       "      <th>655</th>\n",
       "      <td>homeDribbledPastFT</td>\n",
       "      <td>awayDribblesWonFT</td>\n",
       "      <td>0.999931</td>\n",
       "    </tr>\n",
       "    <tr>\n",
       "      <th>676</th>\n",
       "      <td>homeDribbledPastFT</td>\n",
       "      <td>awayDribblesAttemptedFT</td>\n",
       "      <td>0.814320</td>\n",
       "    </tr>\n",
       "    <tr>\n",
       "      <th>681</th>\n",
       "      <td>homeDribbledPastFT</td>\n",
       "      <td>homeTackleSuccessFT</td>\n",
       "      <td>0.748057</td>\n",
       "    </tr>\n",
       "    <tr>\n",
       "      <th>674</th>\n",
       "      <td>homeDribbledPastFT</td>\n",
       "      <td>homeTacklesTotalFT</td>\n",
       "      <td>0.740601</td>\n",
       "    </tr>\n",
       "    <tr>\n",
       "      <th>740</th>\n",
       "      <td>awayTackleSuccessFT</td>\n",
       "      <td>homeDribblesWonFT</td>\n",
       "      <td>0.737310</td>\n",
       "    </tr>\n",
       "    <tr>\n",
       "      <th>744</th>\n",
       "      <td>awayTackleSuccessFT</td>\n",
       "      <td>awayDribbledPastFT</td>\n",
       "      <td>0.737109</td>\n",
       "    </tr>\n",
       "    <tr>\n",
       "      <th>734</th>\n",
       "      <td>awayTackleSuccessFT</td>\n",
       "      <td>homeDribbleSuccessFT</td>\n",
       "      <td>0.703614</td>\n",
       "    </tr>\n",
       "    <tr>\n",
       "      <th>109</th>\n",
       "      <td>awayRatingsFT</td>\n",
       "      <td>homeRatingsFT</td>\n",
       "      <td>0.670112</td>\n",
       "    </tr>\n",
       "    <tr>\n",
       "      <th>1256</th>\n",
       "      <td>homeRatingsFT</td>\n",
       "      <td>awayRatingsFT</td>\n",
       "      <td>0.670112</td>\n",
       "    </tr>\n",
       "    <tr>\n",
       "      <th>1049</th>\n",
       "      <td>homeShotsOnTargetFT</td>\n",
       "      <td>homeShotsTotalFT</td>\n",
       "      <td>0.666887</td>\n",
       "    </tr>\n",
       "    <tr>\n",
       "      <th>265</th>\n",
       "      <td>awayShotsOnTargetFT</td>\n",
       "      <td>awayShotsTotalFT</td>\n",
       "      <td>0.657898</td>\n",
       "    </tr>\n",
       "    <tr>\n",
       "      <th>1034</th>\n",
       "      <td>homeShotsOnTargetFT</td>\n",
       "      <td>homePassesKeyFT</td>\n",
       "      <td>0.627178</td>\n",
       "    </tr>\n",
       "    <tr>\n",
       "      <th>242</th>\n",
       "      <td>awayShotsOnTargetFT</td>\n",
       "      <td>awayPassesKeyFT</td>\n",
       "      <td>0.609714</td>\n",
       "    </tr>\n",
       "  </tbody>\n",
       "</table>\n",
       "</div>"
      ],
      "text/plain": [
       "                variable1                variable2  correlation\n",
       "655    homeDribbledPastFT        awayDribblesWonFT     0.999931\n",
       "676    homeDribbledPastFT  awayDribblesAttemptedFT     0.814320\n",
       "681    homeDribbledPastFT      homeTackleSuccessFT     0.748057\n",
       "674    homeDribbledPastFT       homeTacklesTotalFT     0.740601\n",
       "740   awayTackleSuccessFT        homeDribblesWonFT     0.737310\n",
       "744   awayTackleSuccessFT       awayDribbledPastFT     0.737109\n",
       "734   awayTackleSuccessFT     homeDribbleSuccessFT     0.703614\n",
       "109         awayRatingsFT            homeRatingsFT     0.670112\n",
       "1256        homeRatingsFT            awayRatingsFT     0.670112\n",
       "1049  homeShotsOnTargetFT         homeShotsTotalFT     0.666887\n",
       "265   awayShotsOnTargetFT         awayShotsTotalFT     0.657898\n",
       "1034  homeShotsOnTargetFT          homePassesKeyFT     0.627178\n",
       "242   awayShotsOnTargetFT          awayPassesKeyFT     0.609714"
      ]
     },
     "execution_count": 15,
     "metadata": {},
     "output_type": "execute_result"
    }
   ],
   "source": [
    "cor_matrix = correlated_variables(data_train, 0.6)\n",
    "cor_matrix[cor_matrix['variable1'].isin(sel_var)]"
   ]
  },
  {
   "cell_type": "code",
   "execution_count": 16,
   "metadata": {},
   "outputs": [
    {
     "data": {
      "image/png": "[encoded data removed]",
      "text/plain": [
       "<Figure size 432x288 with 1 Axes>"
      ]
     },
     "metadata": {
      "needs_background": "light"
     },
     "output_type": "display_data"
    }
   ],
   "source": [
    "plt.scatter(data_train['awayRatingsFT'], data_train['homeRatingsFT'], c=\"b\", alpha=0.5)\n",
    "plt.xlabel(\"awayRatingsFT\")\n",
    "plt.ylabel(\"homeRatingsFT\")\n",
    "plt.show()"
   ]
  },
  {
   "cell_type": "markdown",
   "metadata": {},
   "source": [
    "#### Best model performace"
   ]
  },
  {
   "cell_type": "code",
   "execution_count": 17,
   "metadata": {},
   "outputs": [
    {
     "name": "stdout",
     "output_type": "stream",
     "text": [
      "Accuracy: 72.20%\n"
     ]
    }
   ],
   "source": [
    "top_n_var = feature_importance.feature[:6]\n",
    "\n",
    "model = XGBClassifier()\n",
    "model.fit(x_train[top_n_var], y_train)\n",
    "\n",
    "# make predictions for test data and evaluate\n",
    "y_pred = model.predict(x_test[top_n_var])\n",
    "accuracy = accuracy_score(y_test, y_pred)\n",
    "print(\"Accuracy: %.2f%%\" % (accuracy * 100.0))"
   ]
  },
  {
   "cell_type": "markdown",
   "metadata": {},
   "source": [
    "#### model extended"
   ]
  },
  {
   "cell_type": "code",
   "execution_count": 18,
   "metadata": {},
   "outputs": [
    {
     "data": {
      "text/plain": [
       "['homeRatingsFT',\n",
       " 'awayRatingsFT',\n",
       " 'homeShotsOnTargetFT',\n",
       " 'awayShotsOnTargetFT',\n",
       " 'awayTackleSuccessFT',\n",
       " 'homeDribbledPastFT',\n",
       " 'awayInterceptionsFT']"
      ]
     },
     "execution_count": 18,
     "metadata": {},
     "output_type": "execute_result"
    }
   ],
   "source": [
    "top_n_var_plus = list(feature_importance.feature[:6]) + ['awayInterceptionsFT']\n",
    "top_n_var_plus"
   ]
  },
  {
   "cell_type": "code",
   "execution_count": 19,
   "metadata": {},
   "outputs": [
    {
     "name": "stdout",
     "output_type": "stream",
     "text": [
      "Accuracy: 72.04%\n"
     ]
    }
   ],
   "source": [
    "model = XGBClassifier()\n",
    "model.fit(x_train[top_n_var_plus], y_train)\n",
    "\n",
    "# make predictions for test data and evaluate\n",
    "y_pred = model.predict(x_test[top_n_var_plus])\n",
    "accuracy = accuracy_score(y_test, y_pred)\n",
    "print(\"Accuracy: %.2f%%\" % (accuracy * 100.0))"
   ]
  },
  {
   "cell_type": "markdown",
   "metadata": {},
   "source": [
    "### Genetic algorithm"
   ]
  },
  {
   "cell_type": "code",
   "execution_count": 22,
   "metadata": {},
   "outputs": [],
   "source": [
    "import sys\n",
    "#sys.path.append('C:\\\\Users\\\\bend\\\\Dropbox\\\\PROJECTS\\\\0.GITHUB\\python_modules\\\\feature_selection\\\\geneticfs')\n",
    "sys.path.append('C:\\\\Users\\\\ndah\\\\Dropbox\\\\PROJECTS\\\\0.GITHUB\\python_modules\\\\feature_selection\\\\geneticfs')\n",
    "from utils.algorithm import GeneticFS"
   ]
  },
  {
   "cell_type": "code",
   "execution_count": null,
   "metadata": {},
   "outputs": [],
   "source": [
    "top_n_var = feature_importance.feature[:15]\n",
    "\n",
    "gbm = XGBClassifier(error_score=np.nan)\n",
    "gfs = GeneticFS(iterations = 100)\n",
    "\n",
    "# fit the optimizer\n",
    "#gfs.fit(model=gbm, _type='classification', X=x_train[top_n_var], y=y_train) # classification model\n",
    "gfs.fit(model=gbm, _type='classification', X=x_train, y=y_train) # classification model\n",
    "\n",
    "# get results output\n",
    "binary_output_of_optimal_variables, indicies_of_optimal_variables = gfs.results()\n",
    "\n",
    "# plot results of progress\n",
    "gfs.plot_progress()"
   ]
  },
  {
   "cell_type": "code",
   "execution_count": null,
   "metadata": {},
   "outputs": [],
   "source": [
    "indicies_of_optimal_variables"
   ]
  },
  {
   "cell_type": "code",
   "execution_count": null,
   "metadata": {},
   "outputs": [],
   "source": [
    "ga_variables = []\n",
    "for i in indicies_of_optimal_variables:\n",
    "    ga_variables.append(x_train.columns[i])\n",
    "    \n",
    "print(ga_variables)"
   ]
  },
  {
   "cell_type": "code",
   "execution_count": null,
   "metadata": {},
   "outputs": [],
   "source": [
    "model = XGBClassifier()\n",
    "model.fit(x_train[ga_variables], y_train)\n",
    "\n",
    "# make predictions for test data and evaluate\n",
    "y_pred = model.predict(x_test[ga_variables])\n",
    "accuracy = accuracy_score(y_test, y_pred)\n",
    "print(\"Accuracy: %.2f%%\" % (accuracy * 100.0))"
   ]
  },
  {
   "cell_type": "code",
   "execution_count": null,
   "metadata": {},
   "outputs": [],
   "source": [
    "binary_output_of_optimal_variables"
   ]
  },
  {
   "cell_type": "code",
   "execution_count": null,
   "metadata": {},
   "outputs": [],
   "source": []
  }
 ],
 "metadata": {
  "kernelspec": {
   "display_name": "Python 3",
   "language": "python",
   "name": "python3"
  },
  "language_info": {
   "codemirror_mode": {
    "name": "ipython",
    "version": 3
   },
   "file_extension": ".py",
   "mimetype": "text/x-python",
   "name": "python",
   "nbconvert_exporter": "python",
   "pygments_lexer": "ipython3",
   "version": "3.7.4"
  }
 },
 "nbformat": 4,
 "nbformat_minor": 4
}
