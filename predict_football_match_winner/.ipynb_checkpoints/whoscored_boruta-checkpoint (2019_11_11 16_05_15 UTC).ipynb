{
 "cells": [
  {
   "cell_type": "code",
   "execution_count": null,
   "metadata": {},
   "outputs": [],
   "source": [
    "#import sys\n",
    "#sys.path.append('C:\\\\Users\\\\ndah\\\\Dropbox\\\\PROJECTS\\\\0.GITHUB\\python_modules\\\\correlation')"
   ]
  },
  {
   "cell_type": "code",
   "execution_count": null,
   "metadata": {},
   "outputs": [],
   "source": [
    "#import correlation\n",
    "## https://pypi.org/project/Boruta/"
   ]
  },
  {
   "cell_type": "code",
   "execution_count": 1,
   "metadata": {},
   "outputs": [],
   "source": [
    "import pandas as pd \n",
    "import numpy as np\n",
    "\n",
    "from numpy import loadtxt\n",
    "from numpy import sort\n",
    "\n",
    "import matplotlib\n",
    "import matplotlib.pyplot as plt\n",
    "import seaborn as sns\n",
    "%matplotlib inline \n",
    "\n",
    "from sklearn.model_selection import train_test_split\n",
    "from sklearn.feature_selection import SelectFromModel\n",
    "from sklearn.metrics import accuracy_score\n",
    "from xgboost import XGBClassifier\n",
    "\n",
    "\n",
    "import warnings\n",
    "warnings.filterwarnings(\"ignore\", category=DeprecationWarning)\n",
    "\n",
    "# hidden neuron selection\n",
    "# one could get decent performance by setting the hidden layer configuration using just two rules: \n",
    "#(i) number of hidden layers equals one; and \n",
    "#(ii) the number of neurons in that layer is the mean of the neurons in the input and output layers."
   ]
  },
  {
   "cell_type": "code",
   "execution_count": 3,
   "metadata": {},
   "outputs": [],
   "source": [
    "def correlated_variables (data, corr_limit=0.6):\n",
    "    \n",
    "    corr_matrix = data.corr()\n",
    "    #corr_matrix = pd.DataFrame(np.triu(data.corr()))\n",
    "    flat_cm = corr_matrix.stack().reset_index()\n",
    "    flat_cm.columns = ['variable1', 'variable2', 'correlation']\n",
    "    flat_cm.correlation = abs(flat_cm.correlation)\n",
    "    flat_cm = flat_cm.loc[flat_cm.correlation < 1]\n",
    "\n",
    "    flat_cm = flat_cm.sort_values(by='correlation', ascending=False)\n",
    "    \n",
    "    return flat_cm[flat_cm.correlation >= corr_limit]\n",
    "\n",
    "    #return flat_cm"
   ]
  },
  {
   "cell_type": "code",
   "execution_count": 5,
   "metadata": {},
   "outputs": [
    {
     "name": "stderr",
     "output_type": "stream",
     "text": [
      "D:\\ProgramFiles\\Anaconda3\\lib\\site-packages\\IPython\\core\\interactiveshell.py:2785: DtypeWarning: Columns (38,60) have mixed types. Specify dtype option on import or set low_memory=False.\n",
      "  interactivity=interactivity, compiler=compiler, result=result)\n"
     ]
    }
   ],
   "source": [
    "df = pd.read_csv('data/FootballEurope.csv') \n",
    "\n",
    "#df.loc[df.homeGoalFT - df.awayGoalFT > 0, 'FTR'] = 0\n",
    "#df.loc[df.homeGoalFT - df.awayGoalFT == 0, 'FTR'] = 1 \n",
    "#df.loc[df.homeGoalFT - df.awayGoalFT < 0, 'FTR'] = 2\n",
    "\n",
    "#df.division.unique()\n",
    "df.loc[df.homeGoalFT - df.awayGoalFT > 0, 'FTR'] = 'H' \n",
    "df.loc[df.homeGoalFT - df.awayGoalFT == 0, 'FTR'] = 'D' \n",
    "df.loc[df.homeGoalFT - df.awayGoalFT < 0, 'FTR'] = 'A'\n",
    "\n",
    "df['FTG'] = df.homeGoalFT + df.awayGoalFT\n",
    "### calcultae shot accuracy"
   ]
  },
  {
   "cell_type": "code",
   "execution_count": 6,
   "metadata": {},
   "outputs": [],
   "source": [
    "cols = ['id','homeTeamLineUp', 'awayTeamLineUp', 'homeFormation', 'awayFormation','awayManagerName','homeManagerName', \n",
    "        'venueName','date','awayGoalHT', 'homeGoalHT','homeGoalFT', 'awayGoalFT', 'homeTeam', 'awayTeam', 'refereeName']"
   ]
  },
  {
   "cell_type": "code",
   "execution_count": 7,
   "metadata": {},
   "outputs": [
    {
     "data": {
      "text/html": [
       "<div>\n",
       "<style scoped>\n",
       "    .dataframe tbody tr th:only-of-type {\n",
       "        vertical-align: middle;\n",
       "    }\n",
       "\n",
       "    .dataframe tbody tr th {\n",
       "        vertical-align: top;\n",
       "    }\n",
       "\n",
       "    .dataframe thead th {\n",
       "        text-align: right;\n",
       "    }\n",
       "</style>\n",
       "<table border=\"1\" class=\"dataframe\">\n",
       "  <thead>\n",
       "    <tr style=\"text-align: right;\">\n",
       "      <th></th>\n",
       "      <th>Feature</th>\n",
       "      <th>type</th>\n",
       "    </tr>\n",
       "  </thead>\n",
       "  <tbody>\n",
       "    <tr>\n",
       "      <th>0</th>\n",
       "      <td>id</td>\n",
       "      <td>int64</td>\n",
       "    </tr>\n",
       "    <tr>\n",
       "      <th>1</th>\n",
       "      <td>homeTacklesTotalHT</td>\n",
       "      <td>int64</td>\n",
       "    </tr>\n",
       "    <tr>\n",
       "      <th>2</th>\n",
       "      <td>homeShotsTotalHT</td>\n",
       "      <td>int64</td>\n",
       "    </tr>\n",
       "    <tr>\n",
       "      <th>3</th>\n",
       "      <td>awayDispossessedFT</td>\n",
       "      <td>float64</td>\n",
       "    </tr>\n",
       "    <tr>\n",
       "      <th>4</th>\n",
       "      <td>awayPassSuccessFT</td>\n",
       "      <td>float64</td>\n",
       "    </tr>\n",
       "  </tbody>\n",
       "</table>\n",
       "</div>"
      ],
      "text/plain": [
       "              Feature     type\n",
       "0                  id    int64\n",
       "1  homeTacklesTotalHT    int64\n",
       "2    homeShotsTotalHT    int64\n",
       "3  awayDispossessedFT  float64\n",
       "4   awayPassSuccessFT  float64"
      ]
     },
     "execution_count": 7,
     "metadata": {},
     "output_type": "execute_result"
    }
   ],
   "source": [
    "data_types = pd.DataFrame(df.dtypes)\n",
    "data_types.reset_index(inplace=True)\n",
    "data_types.columns = ['Feature', 'type']\n",
    "data_types.head()"
   ]
  },
  {
   "cell_type": "code",
   "execution_count": 8,
   "metadata": {},
   "outputs": [],
   "source": [
    "cols_halftime = [col for col in df.columns if col[-2:] == 'HT']\n",
    "cols_to_drop = cols + cols_halftime\n",
    "\n",
    "# drop unused variables\n",
    "df = df.drop(cols_to_drop , axis=1)\n",
    "#df = df.dropna()"
   ]
  },
  {
   "cell_type": "markdown",
   "metadata": {},
   "source": [
    "#### Feature engineering"
   ]
  },
  {
   "cell_type": "code",
   "execution_count": 9,
   "metadata": {},
   "outputs": [
    {
     "data": {
      "text/plain": [
       "['awayShotsOnTargetFT',\n",
       " 'awayShotsBlockedFT',\n",
       " 'homeShotsBlockedFT',\n",
       " 'homeShotsTotalFT',\n",
       " 'homeShotsOnTargetFT',\n",
       " 'awayShotsTotalFT']"
      ]
     },
     "execution_count": 9,
     "metadata": {},
     "output_type": "execute_result"
    }
   ],
   "source": [
    "# get shots vraibles\n",
    "cols_shots = [col for col in df.columns if'Shot' in col]\n",
    "cols_shots"
   ]
  },
  {
   "cell_type": "code",
   "execution_count": 10,
   "metadata": {},
   "outputs": [],
   "source": [
    "\n",
    "\n",
    "res_var = 'FTR'\n",
    "data_train = df.dropna()\n",
    "response = np.array(data_train[res_var])\n",
    "data_train = data_train.drop(['FTR', 'FTG','division'] , axis=1)\n",
    "\n",
    "x_train, x_test, y_train, y_test = train_test_split(data_train, response, train_size=0.85,test_size=0.15, random_state=12)\n"
   ]
  },
  {
   "cell_type": "code",
   "execution_count": null,
   "metadata": {},
   "outputs": [],
   "source": [
    "import pandas as pd\n",
    "from sklearn.ensemble import RandomForestClassifier\n",
    "from boruta import BorutaPy\n",
    "\n",
    "# load X and y\n",
    "# NOTE BorutaPy accepts numpy arrays only, hence the .values attribute\n",
    "X = pd.read_csv('examples/test_X.csv', index_col=0).values\n",
    "y = pd.read_csv('examples/test_y.csv', header=None, index_col=0).values\n",
    "y = y.ravel()\n",
    "\n",
    "# define random forest classifier, with utilising all cores and\n",
    "# sampling in proportion to y labels\n",
    "rf = RandomForestClassifier(n_jobs=-1, class_weight='auto', max_depth=5)\n",
    "\n",
    "# define Boruta feature selection method\n",
    "feat_selector = BorutaPy(rf, n_estimators='auto', verbose=2, random_state=1)\n",
    "\n",
    "# find all relevant features - 5 features should be selected\n",
    "feat_selector.fit(X, y)\n",
    "\n",
    "# check selected features - first 5 features are selected\n",
    "feat_selector.support_\n",
    "\n",
    "# check ranking of features\n",
    "feat_selector.ranking_\n",
    "\n",
    "# call transform() on X to filter it down to selected features\n",
    "X_filtered = feat_selector.transform(X)"
   ]
  },
  {
   "cell_type": "code",
   "execution_count": null,
   "metadata": {},
   "outputs": [],
   "source": [
    "\n",
    "# split data into train and test sets\n",
    "# drop response variable\n",
    "res_var = 'FTR'\n",
    "data_train = df.dropna()\n",
    "response = np.array(data_train[res_var])\n",
    "data_train = data_train.drop(['FTR', 'FTG','division'] , axis=1)\n",
    "\n",
    "x_train, x_test, y_train, y_test = train_test_split(data_train, response, train_size=0.85,test_size=0.15, random_state=12)\n"
   ]
  }
 ],
 "metadata": {
  "kernelspec": {
   "display_name": "Python 3",
   "language": "python",
   "name": "python3"
  },
  "language_info": {
   "codemirror_mode": {
    "name": "ipython",
    "version": 3
   },
   "file_extension": ".py",
   "mimetype": "text/x-python",
   "name": "python",
   "nbconvert_exporter": "python",
   "pygments_lexer": "ipython3",
   "version": "3.6.5"
  }
 },
 "nbformat": 4,
 "nbformat_minor": 2
}
