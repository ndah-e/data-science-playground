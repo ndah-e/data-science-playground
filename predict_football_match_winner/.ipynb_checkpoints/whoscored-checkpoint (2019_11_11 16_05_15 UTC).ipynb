{
 "cells": [
  {
   "cell_type": "code",
   "execution_count": 1,
   "metadata": {},
   "outputs": [],
   "source": [
    "import pandas as pd \n",
    "import numpy as np\n",
    "\n",
    "import matplotlib\n",
    "import matplotlib.pyplot as plt\n",
    "import seaborn as sns\n",
    "%matplotlib inline \n",
    "\n",
    "\n",
    "# hidden neuron selection\n",
    "# one could get decent performance by setting the hidden layer configuration using just two rules: \n",
    "#(i) number of hidden layers equals one; and \n",
    "#(ii) the number of neurons in that layer is the mean of the neurons in the input and output layers."
   ]
  },
  {
   "cell_type": "markdown",
   "metadata": {},
   "source": [
    "#### Process file"
   ]
  },
  {
   "cell_type": "code",
   "execution_count": 7,
   "metadata": {},
   "outputs": [],
   "source": [
    "import glob\n",
    "\n",
    "def process_file_22222(league, save_file = 1):\n",
    "    \n",
    "    input_file = \"data/\" + league + \"/*.csv\"\n",
    "    output_file = \"data_combined/\" + league + \".csv\"\n",
    "    \n",
    "    filenames = glob.glob(input_file)\n",
    "    list_of_dfs = [pd.read_csv(filename) for filename in filenames]\n",
    "    \n",
    "    data = pd.concat(list_of_dfs, ignore_index=True)\n",
    "    #\n",
    "    \n",
    "    data['HBP'] = 10*data.HY + 25*data.HR                              # Home Team Bookings Points\n",
    "    data['ABP'] = 10*data.AY + 25*data.AR                              # Away Team Bookings Points\n",
    "    data['TG'] = data.FTHG + data.FTAG                                 # total goals scored\n",
    "    data['TS'] = data.HS + data.AS                                     # total number of shots in match both teams\n",
    "    data['SD'] = (data.HST + data.HC)/(data.AST + data.AC)             # total number of shots in match both teams\n",
    "\n",
    "    data['HSP'] = data.HS/data['TS']                                   # Home Team shots proportion\n",
    "    data['ASP'] = data.AS/data['TS']                                   # Away Team shots proportion\n",
    "    data['HSA'] =   (np.exp(data.HS/data['TS']))*(data.HST/data.HS)    # home team weighted shot accuracy\n",
    "    data['ASA'] =   (np.exp(data.AS/data['TS']))*(data.AST/data.AS)    # home team weighted shot accuracy\n",
    "    \n",
    "    cols = ['Div','Date','HomeTeam','AwayTeam','HSA','ASA','AST','HST','ABP','HS','AS','HBP','HF','AF','AC','HC'\n",
    "            ,'HSP','ASP','TS','SD','FTR','TG']\n",
    "    \n",
    "    data = data[cols]\n",
    "    data = data.dropna()\n",
    "    \n",
    "    if save_file == 1:\n",
    "        data.to_csv(output_file, sep=',', na_rep='',header=True, index=False)\n",
    "    else:\n",
    "        return data\n",
    "\n",
    "    \n",
    "def process_file(league, save_file = 1):\n",
    "    \n",
    "    input_file = \"data/\" + league + \"/*.csv\"\n",
    "    output_file = \"data_combined/\" + league + \".csv\"\n",
    "    \n",
    "    filenames = glob.glob(input_file)\n",
    "    list_of_dfs = [pd.read_csv(filename) for filename in filenames]\n",
    "    \n",
    "    data = pd.concat(list_of_dfs, ignore_index=True)\n",
    "\n",
    "    data = data.dropna()\n",
    "    \n",
    "    #if save_file == 1:\n",
    "    #    data.to_csv(output_file, sep=',', na_rep='',header=True, index=False)\n",
    "    #else:\n",
    "    #    return data\n",
    "    return data"
   ]
  },
  {
   "cell_type": "code",
   "execution_count": 4,
   "metadata": {},
   "outputs": [],
   "source": [
    "leagues = ['Championship','England','France','Germany','ItalyA','ItalyB','Netherlands','Portugal','Scotland','Spain1','Spain2']\n",
    "leagues = ['England','France','Germany','ItalyA','Netherlands','Portugal','Scotland','Spain1']\n",
    "leagues = ['Championship','ItalyB','Spain2']\n",
    "\n",
    "leagues = ['England']\n",
    "\n",
    "\n",
    "#for league in leagues:\n",
    "#    process_file(league, 1)"
   ]
  },
  {
   "cell_type": "markdown",
   "metadata": {},
   "source": [
    "### Classification"
   ]
  },
  {
   "cell_type": "code",
   "execution_count": 3,
   "metadata": {},
   "outputs": [],
   "source": [
    "# response variables\n",
    "responseClass = 'FTR'\n",
    "responseCount = 'TG'\n",
    "\n",
    "#cols_to_use = ['HSA','ASA','AST','HF','AC','AF','HS','AS','HST','ABP','HC','HBP','HSP','ASP','SD','TS']\n",
    "#,'TS'\n",
    "\n",
    "#filenames = glob.glob(\"data_combined//*.csv\")\n",
    "#list_of_dfs = [pd.read_csv(filename) for filename in filenames]\n",
    "#data = pd.concat(list_of_dfs, ignore_index=True)"
   ]
  },
  {
   "cell_type": "code",
   "execution_count": 25,
   "metadata": {},
   "outputs": [],
   "source": [
    "df = process_file('England', 1)    "
   ]
  },
  {
   "cell_type": "code",
   "execution_count": 26,
   "metadata": {},
   "outputs": [
    {
     "data": {
      "text/html": [
       "<div>\n",
       "<style scoped>\n",
       "    .dataframe tbody tr th:only-of-type {\n",
       "        vertical-align: middle;\n",
       "    }\n",
       "\n",
       "    .dataframe tbody tr th {\n",
       "        vertical-align: top;\n",
       "    }\n",
       "\n",
       "    .dataframe thead th {\n",
       "        text-align: right;\n",
       "    }\n",
       "</style>\n",
       "<table border=\"1\" class=\"dataframe\">\n",
       "  <thead>\n",
       "    <tr style=\"text-align: right;\">\n",
       "      <th></th>\n",
       "      <th>AC</th>\n",
       "      <th>AF</th>\n",
       "      <th>AR</th>\n",
       "      <th>AS</th>\n",
       "      <th>AST</th>\n",
       "      <th>AY</th>\n",
       "      <th>AwayTeam</th>\n",
       "      <th>B365A</th>\n",
       "      <th>B365D</th>\n",
       "      <th>B365H</th>\n",
       "      <th>...</th>\n",
       "      <th>Referee</th>\n",
       "      <th>SJA</th>\n",
       "      <th>SJD</th>\n",
       "      <th>SJH</th>\n",
       "      <th>VCA</th>\n",
       "      <th>VCD</th>\n",
       "      <th>VCH</th>\n",
       "      <th>WHA</th>\n",
       "      <th>WHD</th>\n",
       "      <th>WHH</th>\n",
       "    </tr>\n",
       "  </thead>\n",
       "  <tbody>\n",
       "    <tr>\n",
       "      <th>10</th>\n",
       "      <td>2.0</td>\n",
       "      <td>13.0</td>\n",
       "      <td>0.0</td>\n",
       "      <td>7.0</td>\n",
       "      <td>3.0</td>\n",
       "      <td>4.0</td>\n",
       "      <td>Aston Villa</td>\n",
       "      <td>10.00</td>\n",
       "      <td>5.50</td>\n",
       "      <td>1.29</td>\n",
       "      <td>...</td>\n",
       "      <td>K Friend</td>\n",
       "      <td>10.00</td>\n",
       "      <td>5.25</td>\n",
       "      <td>1.30</td>\n",
       "      <td>12.00</td>\n",
       "      <td>5.75</td>\n",
       "      <td>1.29</td>\n",
       "      <td>9.50</td>\n",
       "      <td>5.5</td>\n",
       "      <td>1.30</td>\n",
       "    </tr>\n",
       "    <tr>\n",
       "      <th>11</th>\n",
       "      <td>2.0</td>\n",
       "      <td>8.0</td>\n",
       "      <td>0.0</td>\n",
       "      <td>5.0</td>\n",
       "      <td>1.0</td>\n",
       "      <td>3.0</td>\n",
       "      <td>Liverpool</td>\n",
       "      <td>1.95</td>\n",
       "      <td>3.75</td>\n",
       "      <td>4.00</td>\n",
       "      <td>...</td>\n",
       "      <td>M Clattenburg</td>\n",
       "      <td>1.91</td>\n",
       "      <td>3.50</td>\n",
       "      <td>4.00</td>\n",
       "      <td>1.95</td>\n",
       "      <td>3.80</td>\n",
       "      <td>3.90</td>\n",
       "      <td>1.95</td>\n",
       "      <td>3.6</td>\n",
       "      <td>3.75</td>\n",
       "    </tr>\n",
       "    <tr>\n",
       "      <th>12</th>\n",
       "      <td>1.0</td>\n",
       "      <td>15.0</td>\n",
       "      <td>0.0</td>\n",
       "      <td>7.0</td>\n",
       "      <td>2.0</td>\n",
       "      <td>1.0</td>\n",
       "      <td>West Brom</td>\n",
       "      <td>6.50</td>\n",
       "      <td>4.33</td>\n",
       "      <td>1.57</td>\n",
       "      <td>...</td>\n",
       "      <td>R East</td>\n",
       "      <td>6.00</td>\n",
       "      <td>4.00</td>\n",
       "      <td>1.57</td>\n",
       "      <td>6.00</td>\n",
       "      <td>4.20</td>\n",
       "      <td>1.60</td>\n",
       "      <td>6.00</td>\n",
       "      <td>4.0</td>\n",
       "      <td>1.55</td>\n",
       "    </tr>\n",
       "    <tr>\n",
       "      <th>13</th>\n",
       "      <td>8.0</td>\n",
       "      <td>8.0</td>\n",
       "      <td>0.0</td>\n",
       "      <td>18.0</td>\n",
       "      <td>7.0</td>\n",
       "      <td>2.0</td>\n",
       "      <td>Arsenal</td>\n",
       "      <td>2.10</td>\n",
       "      <td>3.50</td>\n",
       "      <td>3.80</td>\n",
       "      <td>...</td>\n",
       "      <td>H Webb</td>\n",
       "      <td>2.10</td>\n",
       "      <td>3.40</td>\n",
       "      <td>3.50</td>\n",
       "      <td>2.15</td>\n",
       "      <td>3.50</td>\n",
       "      <td>3.50</td>\n",
       "      <td>2.10</td>\n",
       "      <td>3.5</td>\n",
       "      <td>3.40</td>\n",
       "    </tr>\n",
       "    <tr>\n",
       "      <th>14</th>\n",
       "      <td>5.0</td>\n",
       "      <td>19.0</td>\n",
       "      <td>0.0</td>\n",
       "      <td>13.0</td>\n",
       "      <td>4.0</td>\n",
       "      <td>1.0</td>\n",
       "      <td>Norwich</td>\n",
       "      <td>3.10</td>\n",
       "      <td>3.40</td>\n",
       "      <td>2.45</td>\n",
       "      <td>...</td>\n",
       "      <td>M Jones</td>\n",
       "      <td>3.00</td>\n",
       "      <td>3.30</td>\n",
       "      <td>2.40</td>\n",
       "      <td>3.10</td>\n",
       "      <td>3.25</td>\n",
       "      <td>2.50</td>\n",
       "      <td>3.10</td>\n",
       "      <td>3.1</td>\n",
       "      <td>2.40</td>\n",
       "    </tr>\n",
       "  </tbody>\n",
       "</table>\n",
       "<p>5 rows × 68 columns</p>\n",
       "</div>"
      ],
      "text/plain": [
       "     AC    AF   AR    AS  AST   AY     AwayTeam  B365A  B365D  B365H  ...   \\\n",
       "10  2.0  13.0  0.0   7.0  3.0  4.0  Aston Villa  10.00   5.50   1.29  ...    \n",
       "11  2.0   8.0  0.0   5.0  1.0  3.0    Liverpool   1.95   3.75   4.00  ...    \n",
       "12  1.0  15.0  0.0   7.0  2.0  1.0    West Brom   6.50   4.33   1.57  ...    \n",
       "13  8.0   8.0  0.0  18.0  7.0  2.0      Arsenal   2.10   3.50   3.80  ...    \n",
       "14  5.0  19.0  0.0  13.0  4.0  1.0      Norwich   3.10   3.40   2.45  ...    \n",
       "\n",
       "          Referee    SJA   SJD   SJH    VCA   VCD   VCH   WHA  WHD   WHH  \n",
       "10       K Friend  10.00  5.25  1.30  12.00  5.75  1.29  9.50  5.5  1.30  \n",
       "11  M Clattenburg   1.91  3.50  4.00   1.95  3.80  3.90  1.95  3.6  3.75  \n",
       "12         R East   6.00  4.00  1.57   6.00  4.20  1.60  6.00  4.0  1.55  \n",
       "13         H Webb   2.10  3.40  3.50   2.15  3.50  3.50  2.10  3.5  3.40  \n",
       "14        M Jones   3.00  3.30  2.40   3.10  3.25  2.50  3.10  3.1  2.40  \n",
       "\n",
       "[5 rows x 68 columns]"
      ]
     },
     "execution_count": 26,
     "metadata": {},
     "output_type": "execute_result"
    }
   ],
   "source": [
    "df.head()"
   ]
  },
  {
   "cell_type": "markdown",
   "metadata": {},
   "source": [
    "#### create new variables "
   ]
  },
  {
   "cell_type": "code",
   "execution_count": 42,
   "metadata": {},
   "outputs": [],
   "source": [
    "df['FTG'] = df.FTHG + df.FTAG  # total goals scored\n",
    "\n",
    "df['HYP'] = 10*df.HY       # Home Team yellow card Bookings Points\n",
    "df['HRP'] = 25*df.HR       # Home Team red card Bookings Points\n",
    "\n",
    "df['AYP'] = 10*df.AY       # Home Team yellow card Bookings Points\n",
    "df['ARP'] = 25*df.AR       # Away Team red card Bookings Points\n",
    "\n",
    "data['TS'] = df.HS + df.AS   # total shots"
   ]
  },
  {
   "cell_type": "code",
   "execution_count": 28,
   "metadata": {},
   "outputs": [],
   "source": [
    "cols = [\"HomeTeam\",\"AwayTeam\",\"FTHG\",\"FTAG\",\"FTR\",\"HTHG\",\"HTAG\",\"HTR\",\"HS\",\"AS\",\"HST\",\"AST\",\"HF\",\"AF\",\"HC\",\"AC\",\n",
    "        \"HY\",\"AY\",\"HR\",\"AR\",\"B365H\",\"B365D\",\"B365A\"]"
   ]
  },
  {
   "cell_type": "code",
   "execution_count": 39,
   "metadata": {},
   "outputs": [
    {
     "name": "stdout",
     "output_type": "stream",
     "text": [
      "(0.06834035373550883, 0.16722451458075355)\n"
     ]
    }
   ],
   "source": [
    "from scipy.stats.stats import pearsonr   \n",
    "\n",
    "print(pearsonr(df[\"FTG\"],df[\"B365H\"]))"
   ]
  },
  {
   "cell_type": "code",
   "execution_count": 41,
   "metadata": {},
   "outputs": [
    {
     "data": {
      "text/plain": [
       "<matplotlib.axes._subplots.AxesSubplot at 0x144c5d38240>"
      ]
     },
     "execution_count": 41,
     "metadata": {},
     "output_type": "execute_result"
    },
    {
     "data": {
      "image/png": "[encoded data removed]",
      "text/plain": [
       "<matplotlib.figure.Figure at 0x144c5f3b0b8>"
      ]
     },
     "metadata": {},
     "output_type": "display_data"
    }
   ],
   "source": [
    "df[\"FTG\"].plot.hist(weights = 100*np.ones_like(df.index) / len(df.index), bins=30)"
   ]
  },
  {
   "cell_type": "code",
   "execution_count": null,
   "metadata": {},
   "outputs": [],
   "source": [
    "for var in categorical_var:\n",
    "    plt.figure()\n",
    "    print(sns.boxplot(x=response_var, y=var, data=df, showfliers=False))"
   ]
  },
  {
   "cell_type": "code",
   "execution_count": null,
   "metadata": {},
   "outputs": [],
   "source": [
    "for var in categorical_var:\n",
    "    plt.figure()\n",
    "    print(sns.boxplot(x=response_var, y=var, data=df, showfliers=False))"
   ]
  },
  {
   "cell_type": "code",
   "execution_count": 11,
   "metadata": {},
   "outputs": [],
   "source": [
    "from sklearn.model_selection import train_test_split\n",
    "data = data.dropna()\n",
    "\n",
    "responseCL = data.FTR\n",
    "x_train, x_test, y_train, y_test = train_test_split(data, responseCL, \n",
    "                                                    train_size=0.90, test_size=0.1, random_state=12)"
   ]
  },
  {
   "cell_type": "code",
   "execution_count": 12,
   "metadata": {},
   "outputs": [
    {
     "data": {
      "text/plain": [
       "<matplotlib.axes._subplots.AxesSubplot at 0x19e886da358>"
      ]
     },
     "execution_count": 12,
     "metadata": {},
     "output_type": "execute_result"
    },
    {
     "data": {
      "image/png": "[encoded data removed]",
      "text/plain": [
       "<matplotlib.figure.Figure at 0x19e8803a6d8>"
      ]
     },
     "metadata": {},
     "output_type": "display_data"
    }
   ],
   "source": [
    "from string import ascii_letters\n",
    "\n",
    "corr = data[cols_to_use].corr()\n",
    "\n",
    "# Generate a mask for the upper triangle\n",
    "mask = np.zeros_like(corr, dtype=np.bool)\n",
    "mask[np.triu_indices_from(mask)] = True\n",
    "\n",
    "#f, ax = plt.subplots(figsize=(15, 15))\n",
    "cmap = sns.diverging_palette(220, 10, as_cmap=True)\n",
    "sns.heatmap(corr, mask=mask, cmap=cmap, vmax=.3, center=0,square=True, linewidths=.5, cbar_kws={\"shrink\": .5})"
   ]
  },
  {
   "cell_type": "code",
   "execution_count": 13,
   "metadata": {},
   "outputs": [
    {
     "ename": "ValueError",
     "evalue": "Input contains NaN, infinity or a value too large for dtype('float32').",
     "output_type": "error",
     "traceback": [
      "\u001b[1;31m---------------------------------------------------------------------------\u001b[0m",
      "\u001b[1;31mValueError\u001b[0m                                Traceback (most recent call last)",
      "\u001b[1;32m<ipython-input-13-d0e84e79719f>\u001b[0m in \u001b[0;36m<module>\u001b[1;34m()\u001b[0m\n\u001b[0;32m      2\u001b[0m \u001b[1;33m\u001b[0m\u001b[0m\n\u001b[0;32m      3\u001b[0m \u001b[0mrf\u001b[0m \u001b[1;33m=\u001b[0m \u001b[0mRandomForestClassifier\u001b[0m\u001b[1;33m(\u001b[0m\u001b[0mn_estimators\u001b[0m\u001b[1;33m=\u001b[0m\u001b[1;36m79\u001b[0m\u001b[1;33m,\u001b[0m \u001b[0moob_score\u001b[0m\u001b[1;33m=\u001b[0m\u001b[1;32mTrue\u001b[0m\u001b[1;33m,\u001b[0m \u001b[0mrandom_state\u001b[0m\u001b[1;33m=\u001b[0m\u001b[1;36m12\u001b[0m\u001b[1;33m,\u001b[0m \u001b[0mclass_weight\u001b[0m\u001b[1;33m=\u001b[0m\u001b[1;34m\"balanced\"\u001b[0m\u001b[1;33m)\u001b[0m\u001b[1;33m\u001b[0m\u001b[0m\n\u001b[1;32m----> 4\u001b[1;33m \u001b[0mrf\u001b[0m\u001b[1;33m.\u001b[0m\u001b[0mfit\u001b[0m\u001b[1;33m(\u001b[0m\u001b[0mx_train\u001b[0m\u001b[1;33m[\u001b[0m\u001b[0mcols_to_use\u001b[0m\u001b[1;33m]\u001b[0m\u001b[1;33m,\u001b[0m \u001b[0my_train\u001b[0m\u001b[1;33m)\u001b[0m\u001b[1;33m\u001b[0m\u001b[0m\n\u001b[0m\u001b[0;32m      5\u001b[0m \u001b[1;33m\u001b[0m\u001b[0m\n\u001b[0;32m      6\u001b[0m \u001b[0mprint\u001b[0m\u001b[1;33m(\u001b[0m\u001b[0mrf\u001b[0m\u001b[1;33m.\u001b[0m\u001b[0moob_score_\u001b[0m\u001b[1;33m)\u001b[0m\u001b[1;33m\u001b[0m\u001b[0m\n",
      "\u001b[1;32mC:\\ProgramData\\Anaconda3\\lib\\site-packages\\sklearn\\ensemble\\forest.py\u001b[0m in \u001b[0;36mfit\u001b[1;34m(self, X, y, sample_weight)\u001b[0m\n\u001b[0;32m    245\u001b[0m         \"\"\"\n\u001b[0;32m    246\u001b[0m         \u001b[1;31m# Validate or convert input data\u001b[0m\u001b[1;33m\u001b[0m\u001b[1;33m\u001b[0m\u001b[0m\n\u001b[1;32m--> 247\u001b[1;33m         \u001b[0mX\u001b[0m \u001b[1;33m=\u001b[0m \u001b[0mcheck_array\u001b[0m\u001b[1;33m(\u001b[0m\u001b[0mX\u001b[0m\u001b[1;33m,\u001b[0m \u001b[0maccept_sparse\u001b[0m\u001b[1;33m=\u001b[0m\u001b[1;34m\"csc\"\u001b[0m\u001b[1;33m,\u001b[0m \u001b[0mdtype\u001b[0m\u001b[1;33m=\u001b[0m\u001b[0mDTYPE\u001b[0m\u001b[1;33m)\u001b[0m\u001b[1;33m\u001b[0m\u001b[0m\n\u001b[0m\u001b[0;32m    248\u001b[0m         \u001b[0my\u001b[0m \u001b[1;33m=\u001b[0m \u001b[0mcheck_array\u001b[0m\u001b[1;33m(\u001b[0m\u001b[0my\u001b[0m\u001b[1;33m,\u001b[0m \u001b[0maccept_sparse\u001b[0m\u001b[1;33m=\u001b[0m\u001b[1;34m'csc'\u001b[0m\u001b[1;33m,\u001b[0m \u001b[0mensure_2d\u001b[0m\u001b[1;33m=\u001b[0m\u001b[1;32mFalse\u001b[0m\u001b[1;33m,\u001b[0m \u001b[0mdtype\u001b[0m\u001b[1;33m=\u001b[0m\u001b[1;32mNone\u001b[0m\u001b[1;33m)\u001b[0m\u001b[1;33m\u001b[0m\u001b[0m\n\u001b[0;32m    249\u001b[0m         \u001b[1;32mif\u001b[0m \u001b[0msample_weight\u001b[0m \u001b[1;32mis\u001b[0m \u001b[1;32mnot\u001b[0m \u001b[1;32mNone\u001b[0m\u001b[1;33m:\u001b[0m\u001b[1;33m\u001b[0m\u001b[0m\n",
      "\u001b[1;32mC:\\ProgramData\\Anaconda3\\lib\\site-packages\\sklearn\\utils\\validation.py\u001b[0m in \u001b[0;36mcheck_array\u001b[1;34m(array, accept_sparse, dtype, order, copy, force_all_finite, ensure_2d, allow_nd, ensure_min_samples, ensure_min_features, warn_on_dtype, estimator)\u001b[0m\n\u001b[0;32m    451\u001b[0m                              % (array.ndim, estimator_name))\n\u001b[0;32m    452\u001b[0m         \u001b[1;32mif\u001b[0m \u001b[0mforce_all_finite\u001b[0m\u001b[1;33m:\u001b[0m\u001b[1;33m\u001b[0m\u001b[0m\n\u001b[1;32m--> 453\u001b[1;33m             \u001b[0m_assert_all_finite\u001b[0m\u001b[1;33m(\u001b[0m\u001b[0marray\u001b[0m\u001b[1;33m)\u001b[0m\u001b[1;33m\u001b[0m\u001b[0m\n\u001b[0m\u001b[0;32m    454\u001b[0m \u001b[1;33m\u001b[0m\u001b[0m\n\u001b[0;32m    455\u001b[0m     \u001b[0mshape_repr\u001b[0m \u001b[1;33m=\u001b[0m \u001b[0m_shape_repr\u001b[0m\u001b[1;33m(\u001b[0m\u001b[0marray\u001b[0m\u001b[1;33m.\u001b[0m\u001b[0mshape\u001b[0m\u001b[1;33m)\u001b[0m\u001b[1;33m\u001b[0m\u001b[0m\n",
      "\u001b[1;32mC:\\ProgramData\\Anaconda3\\lib\\site-packages\\sklearn\\utils\\validation.py\u001b[0m in \u001b[0;36m_assert_all_finite\u001b[1;34m(X)\u001b[0m\n\u001b[0;32m     42\u001b[0m             and not np.isfinite(X).all()):\n\u001b[0;32m     43\u001b[0m         raise ValueError(\"Input contains NaN, infinity\"\n\u001b[1;32m---> 44\u001b[1;33m                          \" or a value too large for %r.\" % X.dtype)\n\u001b[0m\u001b[0;32m     45\u001b[0m \u001b[1;33m\u001b[0m\u001b[0m\n\u001b[0;32m     46\u001b[0m \u001b[1;33m\u001b[0m\u001b[0m\n",
      "\u001b[1;31mValueError\u001b[0m: Input contains NaN, infinity or a value too large for dtype('float32')."
     ]
    }
   ],
   "source": [
    "from sklearn.ensemble import RandomForestClassifier\n",
    "\n",
    "rf = RandomForestClassifier(n_estimators=79, oob_score=True, random_state=12, class_weight=\"balanced\")\n",
    "rf.fit(x_train[cols_to_use], y_train)\n",
    "\n",
    "print(rf.oob_score_)"
   ]
  },
  {
   "cell_type": "code",
   "execution_count": null,
   "metadata": {},
   "outputs": [],
   "source": [
    "feature_importance = pd.DataFrame({'feature':x_train[cols_to_use].columns,\n",
    "                                   'importance':rf.feature_importances_}).sort_values(by='importance', ascending=False)\n",
    "\n",
    "sns.barplot(x=\"importance\", y=\"feature\", data=feature_importance.head(30))\n",
    "plt.title('Features')"
   ]
  },
  {
   "cell_type": "code",
   "execution_count": null,
   "metadata": {},
   "outputs": [],
   "source": [
    "from sklearn.metrics import accuracy_score\n",
    "\n",
    "pred = rf.predict(x_test[cols_to_use])\n",
    "print(pd.crosstab(y_test, pred))\n",
    "accuracy_score(y_test, pred)"
   ]
  },
  {
   "cell_type": "markdown",
   "metadata": {},
   "source": [
    "#### Parameter tunning"
   ]
  },
  {
   "cell_type": "code",
   "execution_count": null,
   "metadata": {},
   "outputs": [],
   "source": [
    "def evaluate(model, test_features, test_labels):\n",
    "    predictions = model.predict(test_features)\n",
    "    errors = abs(predictions - test_labels)\n",
    "    mape = 100 * np.mean(errors / test_labels)\n",
    "    accuracy = 100 - mape\n",
    "    print('Model Performance')\n",
    "    print('Average Error: {:0.4f} degrees.'.format(np.mean(errors)))\n",
    "    print('Accuracy = {:0.2f}%.'.format(accuracy))\n",
    "    \n",
    "    return accuracy\n"
   ]
  },
  {
   "cell_type": "code",
   "execution_count": null,
   "metadata": {},
   "outputs": [],
   "source": [
    "base_model = RandomForestClassifier(n_estimators = 10, random_state = 42)\n",
    "base_model.fit(train_features, train_labels)\n",
    "base_accuracy = evaluate(base_model, test_features, test_labels)"
   ]
  },
  {
   "cell_type": "code",
   "execution_count": null,
   "metadata": {},
   "outputs": [],
   "source": [
    "from sklearn.model_selection import GridSearchCV\n",
    "# Create the parameter grid based on the results of random search \n",
    "param_grid = {\n",
    "    'bootstrap': [True, False],\n",
    "    'max_depth': [int(x) for x in np.linspace(10, 60, num = 6)],\n",
    "    'max_features': ['auto', 'sqrt'],\n",
    "    'min_samples_leaf': [3, 4, 5],\n",
    "    'min_samples_split': [8, 10, 12],\n",
    "    'n_estimators': [int(x) for x in np.linspace(start = 15, stop = 100, num = 10)]\n",
    "}\n",
    "\n",
    "# Create a based model\n",
    "rf = RandomForestRegressor()\n",
    "\n",
    "# Instantiate the grid search model\n",
    "grid_search = GridSearchCV(estimator = rf, param_grid = param_grid, cv = 3, n_jobs = -1, verbose = 2)\n",
    "\n",
    "# Fit the grid search to the data\n",
    "grid_search.fit(x_train[cols_to_use], y_train)\n",
    "print(grid_search.best_params_)"
   ]
  },
  {
   "cell_type": "code",
   "execution_count": null,
   "metadata": {},
   "outputs": [],
   "source": [
    "\n",
    "\n",
    "best_grid = grid_search.best_estimator_\n",
    "grid_accuracy = evaluate(best_grid, x_train[cols_to_use], y_train)\n",
    "\n",
    "print('Improvement of {:0.2f}%.'.format( 100 * (grid_accuracy - base_accuracy) / base_accuracy))\n"
   ]
  },
  {
   "cell_type": "code",
   "execution_count": null,
   "metadata": {},
   "outputs": [],
   "source": [
    "df_test_result = pd.DataFrame(np.round(rf.predict_proba(x_test[cols_to_use]),3), columns=rf.classes_)\n",
    "df_test_result['FTR_pred'] = pred\n",
    "df_test_result['FTR'] = list(x_test['FTR'])\n",
    "df_test_result['HomeTeam'] = list(x_test['HomeTeam'])\n",
    "df_test_result['AwayTeam'] = list(x_test['AwayTeam'])\n",
    "df_test_result['Date'] = list(x_test['Date'])"
   ]
  },
  {
   "cell_type": "code",
   "execution_count": null,
   "metadata": {},
   "outputs": [],
   "source": [
    "df_test_result.head(20)"
   ]
  },
  {
   "cell_type": "markdown",
   "metadata": {},
   "source": [
    "### Predictions"
   ]
  },
  {
   "cell_type": "code",
   "execution_count": null,
   "metadata": {},
   "outputs": [],
   "source": [
    "input_file = \"prediction/E0.csv\"\n",
    "data_pr = pd.read_csv(input_file) "
   ]
  },
  {
   "cell_type": "code",
   "execution_count": null,
   "metadata": {},
   "outputs": [],
   "source": [
    "data_pr['HBP'] = 10*data_pr.HY + 25*data_pr.HR                              # Home Team Bookings Points\n",
    "data_pr['ABP'] = 10*data_pr.AY + 25*data_pr.AR                              # Away Team Bookings Points\n",
    "data_pr['TG'] = data_pr.FTHG + data_pr.FTAG                                 # total goals scored\n",
    "data_pr['TS'] = data_pr.HS + data_pr.AS                                     # total number of shots in match both teams\n",
    "data_pr['HSP'] = data_pr.HS/data_pr['TS']                                   # Home Team shots proportion\n",
    "data_pr['ASP'] = data_pr.AS/data_pr['TS']                                   # Away Team shots proportion\n",
    "data_pr['HSA'] =   (np.exp(data_pr.HS/data_pr['TS']))*(data_pr.HST/data_pr.HS)    # home team weighted shot accuracy\n",
    "data_pr['ASA'] =   (np.exp(data_pr.AS/data_pr['TS']))*(data_pr.AST/data_pr.AS)    # home team weighted shot accuracy\n",
    "    \n",
    "data_pr.head()"
   ]
  },
  {
   "cell_type": "code",
   "execution_count": null,
   "metadata": {},
   "outputs": [],
   "source": [
    "cols = ['Div','Date','HomeTeam','AwayTeam','HSA','ASA','AST','HST','ABP','HBP','HSP','ASP','HF','AF','AC','HC','TS','FTR','TG']\n",
    "\n",
    "data_pr = data_pr[cols]\n",
    "\n",
    "home = ['HSA','HST','HBP','HF','HS','HC','HSP']\n",
    "away = ['ASA','AST','ABP','AF','AS','AC','ASP']"
   ]
  },
  {
   "cell_type": "code",
   "execution_count": null,
   "metadata": {},
   "outputs": [],
   "source": [
    "teams = set(data_pr['HomeTeam'].unique())"
   ]
  },
  {
   "cell_type": "code",
   "execution_count": null,
   "metadata": {},
   "outputs": [],
   "source": [
    "print(len(teams))"
   ]
  },
  {
   "cell_type": "code",
   "execution_count": null,
   "metadata": {},
   "outputs": [],
   "source": [
    "team_data = {}\n",
    "for team in teams:\n",
    "    df_home = data_pr[data_pr.HomeTeam == team]\n",
    "    \n",
    "    team_data[team]['home']['HSA'] = data_pr['HSA']\n",
    "    team_data[team]['home']['HST'] = data_pr['HST']\n",
    "    team_data[team]['home']['HBP'] = data_pr['HBP']\n",
    "    team_data[team]['home']['HF'] = data_pr['HF']\n",
    "    team_data[team]['home']['HS'] = data_pr['HS']\n",
    "    team_data[team]['home']['HC'] = data_pr['HC']"
   ]
  }
 ],
 "metadata": {
  "kernelspec": {
   "display_name": "Python 3",
   "language": "python",
   "name": "python3"
  },
  "language_info": {
   "codemirror_mode": {
    "name": "ipython",
    "version": 3
   },
   "file_extension": ".py",
   "mimetype": "text/x-python",
   "name": "python",
   "nbconvert_exporter": "python",
   "pygments_lexer": "ipython3",
   "version": "3.6.6"
  }
 },
 "nbformat": 4,
 "nbformat_minor": 2
}
