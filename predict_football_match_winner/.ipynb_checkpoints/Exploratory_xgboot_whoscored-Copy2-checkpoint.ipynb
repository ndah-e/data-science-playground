{
 "cells": [
  {
   "cell_type": "code",
   "execution_count": 1,
   "metadata": {},
   "outputs": [
    {
     "name": "stdout",
     "output_type": "stream",
     "text": [
      "['', 'C:\\\\ProgramData\\\\Anaconda3\\\\python36.zip', 'C:\\\\ProgramData\\\\Anaconda3\\\\DLLs', 'C:\\\\ProgramData\\\\Anaconda3\\\\lib', 'C:\\\\ProgramData\\\\Anaconda3', 'C:\\\\ProgramData\\\\Anaconda3\\\\lib\\\\site-packages', 'C:\\\\ProgramData\\\\Anaconda3\\\\lib\\\\site-packages\\\\Mako-1.0.7-py3.6.egg', 'C:\\\\ProgramData\\\\Anaconda3\\\\lib\\\\site-packages\\\\win32', 'C:\\\\ProgramData\\\\Anaconda3\\\\lib\\\\site-packages\\\\win32\\\\lib', 'C:\\\\ProgramData\\\\Anaconda3\\\\lib\\\\site-packages\\\\Pythonwin', 'C:\\\\ProgramData\\\\Anaconda3\\\\lib\\\\site-packages\\\\IPython\\\\extensions', 'C:\\\\Users\\\\ndah\\\\.ipython']\n"
     ]
    }
   ],
   "source": [
    "import sys\n",
    "print(sys.path)"
   ]
  },
  {
   "cell_type": "code",
   "execution_count": 3,
   "metadata": {},
   "outputs": [],
   "source": [
    "import sys\n",
    "sys.path.append('C:\\\\Users\\\\ndah\\\\Dropbox\\\\PROJECTS\\\\0.GITHUB\\python_modules\\\\correlation')"
   ]
  },
  {
   "cell_type": "code",
   "execution_count": 4,
   "metadata": {},
   "outputs": [],
   "source": [
    "import correlation"
   ]
  },
  {
   "cell_type": "code",
   "execution_count": 1,
   "metadata": {},
   "outputs": [],
   "source": [
    "\n",
    "\n",
    "import pandas as pd \n",
    "import numpy as np\n",
    "\n",
    "from numpy import loadtxt\n",
    "from numpy import sort\n",
    "\n",
    "import matplotlib\n",
    "import matplotlib.pyplot as plt\n",
    "import seaborn as sns\n",
    "%matplotlib inline \n",
    "\n",
    "from sklearn.model_selection import train_test_split\n",
    "from sklearn.feature_selection import SelectFromModel\n",
    "from sklearn.metrics import accuracy_score\n",
    "from xgboost import XGBClassifier\n",
    "\n",
    "\n",
    "import warnings\n",
    "warnings.filterwarnings(\"ignore\", category=DeprecationWarning)\n",
    "\n",
    "# hidden neuron selection\n",
    "# one could get decent performance by setting the hidden layer configuration using just two rules: \n",
    "#(i) number of hidden layers equals one; and \n",
    "#(ii) the number of neurons in that layer is the mean of the neurons in the input and output layers."
   ]
  },
  {
   "cell_type": "code",
   "execution_count": 2,
   "metadata": {},
   "outputs": [],
   "source": [
    "\n",
    "def feature_selection_new(model, feature_importances, x_train, y_train, x_test, y_test, percent_increase=1):\n",
    "    \n",
    "    n_features = 1\n",
    "    best_threshold = 0\n",
    "    default_auc = 1\n",
    "    features = [feature_importances.feature[0],feature_importances.feature[1]]\n",
    "    \n",
    "    thresholds = feature_importances.importance\n",
    "    #thresholds = sort(model.feature_importances_)\n",
    "    for feat in feature_importances.feature[2:,]:\n",
    "    \n",
    "        \n",
    "        selection = SelectFromModel(model, threshold=thresh, prefit=True)\n",
    "        select_X_train = selection.transform(x_train)\n",
    "        \n",
    "        # train model\n",
    "        selection_model = XGBClassifier(seed=12)\n",
    "        selection_model.fit(select_X_train, y_train)\n",
    "        \n",
    "        # evaluate on training set\n",
    "        probs_tr = selection_model.predict_proba(select_X_train)\n",
    "        probs_tr = probs_tr[:, 1]\n",
    "        auc_tr = 100*roc_auc_score(y_train, probs_tr)\n",
    "\n",
    "        # eval model on test set\n",
    "        select_X_test = selection.transform(x_test)\n",
    "        probs = selection_model.predict_proba(select_X_test)\n",
    "        probs = probs[:, 1]\n",
    "        auc = 100*roc_auc_score(y_test, probs)\n",
    "\n",
    "        #print(\"Thresh=%.3f, n=%d, AUC: %.2f%%\" % (thresh, select_X_train.shape[1], auc*100.0))\n",
    "        \n",
    "        current_percent_increase = 100*(auc - default_auc)/default_auc\n",
    "        \n",
    "        if current_percent_increase >= percent_increase:\n",
    "        #if auc/auc_tr >= 0.95:\n",
    "            default_auc = auc\n",
    "            best_threshold = thresh\n",
    "            n_features = select_X_train.shape[1]\n",
    "            features.append(feature_importances.feature[n_features])\n",
    "\n",
    "    best_threshold = round(best_threshold,4)\n",
    "    print(\"Best results: \")\n",
    "    print(\"Thresh=%.3f, n=%d, AUC: %.2f%%\" % (best_threshold, n_features, default_auc))\n",
    "\n",
    "    return features\n",
    "\n"
   ]
  },
  {
   "cell_type": "code",
   "execution_count": 53,
   "metadata": {},
   "outputs": [],
   "source": [
    "def correlated_variables (data, corr_limit):\n",
    "    \n",
    "    corr_matrix = data.corr()\n",
    "    #corr_matrix = pd.DataFrame(np.triu(data.corr()))\n",
    "    flat_cm = corr_matrix.stack().reset_index()\n",
    "    flat_cm.columns = ['variable1', 'variable2', 'correlation']\n",
    "    flat_cm.correlation = abs(flat_cm.correlation)\n",
    "    flat_cm = flat_cm.loc[flat_cm.correlation < 1]\n",
    "\n",
    "    flat_cm = flat_cm.sort_values(by='correlation', ascending=False)\n",
    "    \n",
    "    return flat_cm[flat_cm.correlation >= corr_limit]\n",
    "\n",
    "    #return flat_cm"
   ]
  },
  {
   "cell_type": "code",
   "execution_count": 21,
   "metadata": {},
   "outputs": [
    {
     "data": {
      "text/html": [
       "<div>\n",
       "<style scoped>\n",
       "    .dataframe tbody tr th:only-of-type {\n",
       "        vertical-align: middle;\n",
       "    }\n",
       "\n",
       "    .dataframe tbody tr th {\n",
       "        vertical-align: top;\n",
       "    }\n",
       "\n",
       "    .dataframe thead th {\n",
       "        text-align: right;\n",
       "    }\n",
       "</style>\n",
       "<table border=\"1\" class=\"dataframe\">\n",
       "  <thead>\n",
       "    <tr style=\"text-align: right;\">\n",
       "      <th></th>\n",
       "      <th>variable1</th>\n",
       "      <th>variable2</th>\n",
       "      <th>correlation</th>\n",
       "    </tr>\n",
       "  </thead>\n",
       "  <tbody>\n",
       "    <tr>\n",
       "      <th>203</th>\n",
       "      <td>5</td>\n",
       "      <td>13</td>\n",
       "      <td>0.999978</td>\n",
       "    </tr>\n",
       "    <tr>\n",
       "      <th>706</th>\n",
       "      <td>18</td>\n",
       "      <td>22</td>\n",
       "      <td>0.999950</td>\n",
       "    </tr>\n",
       "    <tr>\n",
       "      <th>359</th>\n",
       "      <td>9</td>\n",
       "      <td>17</td>\n",
       "      <td>0.999933</td>\n",
       "    </tr>\n",
       "    <tr>\n",
       "      <th>327</th>\n",
       "      <td>8</td>\n",
       "      <td>23</td>\n",
       "      <td>0.918260</td>\n",
       "    </tr>\n",
       "    <tr>\n",
       "      <th>569</th>\n",
       "      <td>14</td>\n",
       "      <td>37</td>\n",
       "      <td>0.912058</td>\n",
       "    </tr>\n",
       "  </tbody>\n",
       "</table>\n",
       "</div>"
      ],
      "text/plain": [
       "     variable1  variable2  correlation\n",
       "203          5         13     0.999978\n",
       "706         18         22     0.999950\n",
       "359          9         17     0.999933\n",
       "327          8         23     0.918260\n",
       "569         14         37     0.912058"
      ]
     },
     "execution_count": 21,
     "metadata": {},
     "output_type": "execute_result"
    }
   ],
   "source": [
    "cor_matrix.head()"
   ]
  },
  {
   "cell_type": "code",
   "execution_count": 4,
   "metadata": {},
   "outputs": [],
   "source": [
    "\n",
    "def feature_selection(model, feature_importances, x_train, y_train, x_test, y_test, percent_increase=1):\n",
    "    \n",
    "    n_features = 1\n",
    "    best_threshold = 0\n",
    "    default_accuracy = 1\n",
    "    #features = [feature_importances.feature[0]]\n",
    "    \n",
    "    thresholds = feature_importances.importance\n",
    "    #thresholds = sort(model.feature_importances_)\n",
    "    for thresh in thresholds:\n",
    "        \n",
    "        selection = SelectFromModel(model, threshold=thresh, prefit=True)\n",
    "        select_X_train = selection.transform(x_train)\n",
    "        \n",
    "        # train model\n",
    "        selection_model = XGBClassifier(seed=12)\n",
    "        selection_model.fit(select_X_train, y_train)\n",
    "\n",
    "        # eval model\n",
    "        select_X_test = selection.transform(x_test)\n",
    "        y_pred = selection_model.predict(select_X_test)\n",
    "        accuracy = 100*accuracy_score(y_test, y_pred)\n",
    "        \n",
    "        if default_accuracy < accuracy:\n",
    "            default_accuracy = accuracy\n",
    "            best_threshold = thresh\n",
    "            number_of_var = select_X_train.shape[1]\n",
    "\n",
    "    best_threshold = round(best_threshold,4)\n",
    "    print(\"Best results: \")\n",
    "    print(\"Thresh=%.3f, n=%d, AUC: %.2f%%\" % (best_threshold, n_features,default_accuracy))\n",
    "\n",
    "    features = feature_importances.feature[:n_features]\n",
    "    \n",
    "    return features\n",
    "\n"
   ]
  },
  {
   "cell_type": "code",
   "execution_count": 56,
   "metadata": {},
   "outputs": [
    {
     "name": "stderr",
     "output_type": "stream",
     "text": [
      "C:\\Users\\bend\\AppData\\Local\\Continuum\\anaconda3\\lib\\site-packages\\IPython\\core\\interactiveshell.py:3020: DtypeWarning: Columns (38,60) have mixed types. Specify dtype option on import or set low_memory=False.\n",
      "  interactivity=interactivity, compiler=compiler, result=result)\n"
     ]
    }
   ],
   "source": [
    "df = pd.read_csv('data/FootballEurope.csv') \n",
    "\n",
    "#df.loc[df.homeGoalFT - df.awayGoalFT > 0, 'FTR'] = 0\n",
    "#df.loc[df.homeGoalFT - df.awayGoalFT == 0, 'FTR'] = 1 \n",
    "#df.loc[df.homeGoalFT - df.awayGoalFT < 0, 'FTR'] = 2\n",
    "\n",
    "#df.division.unique()\n",
    "df.loc[df.homeGoalFT - df.awayGoalFT > 0, 'FTR'] = 'H' \n",
    "df.loc[df.homeGoalFT - df.awayGoalFT == 0, 'FTR'] = 'D' \n",
    "df.loc[df.homeGoalFT - df.awayGoalFT < 0, 'FTR'] = 'A'\n",
    "\n",
    "df['FTG'] = df.homeGoalFT + df.awayGoalFT\n",
    "### calcultae shot accuracy"
   ]
  },
  {
   "cell_type": "code",
   "execution_count": 6,
   "metadata": {},
   "outputs": [],
   "source": [
    "cols = ['id','homeTeamLineUp', 'awayTeamLineUp', 'homeFormation', 'awayFormation','awayManagerName','homeManagerName', \n",
    "        'venueName','date','awayGoalHT', 'homeGoalHT','homeGoalFT', 'awayGoalFT', 'homeTeam', 'awayTeam', 'refereeName']"
   ]
  },
  {
   "cell_type": "code",
   "execution_count": 66,
   "metadata": {},
   "outputs": [
    {
     "data": {
      "text/html": [
       "<div>\n",
       "<style scoped>\n",
       "    .dataframe tbody tr th:only-of-type {\n",
       "        vertical-align: middle;\n",
       "    }\n",
       "\n",
       "    .dataframe tbody tr th {\n",
       "        vertical-align: top;\n",
       "    }\n",
       "\n",
       "    .dataframe thead th {\n",
       "        text-align: right;\n",
       "    }\n",
       "</style>\n",
       "<table border=\"1\" class=\"dataframe\">\n",
       "  <thead>\n",
       "    <tr style=\"text-align: right;\">\n",
       "      <th></th>\n",
       "      <th>Feature</th>\n",
       "      <th>type</th>\n",
       "    </tr>\n",
       "  </thead>\n",
       "  <tbody>\n",
       "    <tr>\n",
       "      <th>0</th>\n",
       "      <td>id</td>\n",
       "      <td>int64</td>\n",
       "    </tr>\n",
       "    <tr>\n",
       "      <th>1</th>\n",
       "      <td>homeTacklesTotalHT</td>\n",
       "      <td>int64</td>\n",
       "    </tr>\n",
       "    <tr>\n",
       "      <th>2</th>\n",
       "      <td>homeShotsTotalHT</td>\n",
       "      <td>int64</td>\n",
       "    </tr>\n",
       "    <tr>\n",
       "      <th>3</th>\n",
       "      <td>awayDispossessedFT</td>\n",
       "      <td>float64</td>\n",
       "    </tr>\n",
       "    <tr>\n",
       "      <th>4</th>\n",
       "      <td>awayPassSuccessFT</td>\n",
       "      <td>float64</td>\n",
       "    </tr>\n",
       "  </tbody>\n",
       "</table>\n",
       "</div>"
      ],
      "text/plain": [
       "              Feature     type\n",
       "0                  id    int64\n",
       "1  homeTacklesTotalHT    int64\n",
       "2    homeShotsTotalHT    int64\n",
       "3  awayDispossessedFT  float64\n",
       "4   awayPassSuccessFT  float64"
      ]
     },
     "execution_count": 66,
     "metadata": {},
     "output_type": "execute_result"
    }
   ],
   "source": [
    "data_types = pd.DataFrame(df.dtypes)\n",
    "data_types.reset_index(inplace=True)\n",
    "data_types.columns = ['Feature', 'type']\n",
    "data_types.head()"
   ]
  },
  {
   "cell_type": "code",
   "execution_count": 7,
   "metadata": {},
   "outputs": [],
   "source": [
    "cols_halftime = [col for col in df.columns if col[-2:] == 'HT']\n",
    "cols_to_drop = cols + cols_halftime\n",
    "\n",
    "# drop unused variables\n",
    "df = df.drop(cols_to_drop , axis=1)\n",
    "#df = df.dropna()"
   ]
  },
  {
   "cell_type": "code",
   "execution_count": 55,
   "metadata": {},
   "outputs": [
    {
     "data": {
      "text/plain": [
       "['awayShotsOnTargetFT',\n",
       " 'awayShotsBlockedFT',\n",
       " 'homeShotsBlockedFT',\n",
       " 'homeShotsTotalFT',\n",
       " 'homeShotsOnTargetFT',\n",
       " 'awayShotsTotalFT']"
      ]
     },
     "execution_count": 55,
     "metadata": {},
     "output_type": "execute_result"
    }
   ],
   "source": [
    "# get shots vraibles\n",
    "cols_shots = [col for col in df.columns if'Shot' in col]\n",
    "cols_shots"
   ]
  },
  {
   "cell_type": "code",
   "execution_count": 8,
   "metadata": {},
   "outputs": [
    {
     "name": "stdout",
     "output_type": "stream",
     "text": [
      "\n",
      "Processing EPL\n",
      "AUC full model: 64.53%\n",
      "Best results: \n",
      "Thresh=0.030, n=1, AUC: 69.77%\n",
      "2    awayRatingsFT\n",
      "Name: feature, dtype: object\n",
      "\n",
      "Processing Bundesliga\n",
      "AUC full model: 68.35%\n",
      "Best results: \n",
      "Thresh=0.021, n=1, AUC: 72.66%\n",
      "2    awayRatingsFT\n",
      "Name: feature, dtype: object\n"
     ]
    },
    {
     "data": {
      "image/png": "[encoded data removed]",
      "text/plain": [
       "<Figure size 1080x864 with 1 Axes>"
      ]
     },
     "metadata": {
      "needs_background": "light"
     },
     "output_type": "display_data"
    },
    {
     "data": {
      "image/png": "[encoded data removed]",
      "text/plain": [
       "<Figure size 1080x864 with 1 Axes>"
      ]
     },
     "metadata": {
      "needs_background": "light"
     },
     "output_type": "display_data"
    }
   ],
   "source": [
    "#divisions = ['EPL', 'Bundesliga', 'Ligue_1', 'La_Liga', 'Serie_A']\n",
    "divisions = ['EPL', 'Bundesliga']\n",
    "\n",
    "for div in divisions:\n",
    "    \n",
    "    print()\n",
    "    print(\"Processing \" + div)\n",
    "    \n",
    "    data = df[df.division == div]\n",
    "    \n",
    "    # drop unused variables\n",
    "    #data_train = data_train.drop(cols_to_drop , axis=1)\n",
    "    #data_train = data_train.dropna()\n",
    "    \n",
    "    # drop response variable\n",
    "    res_var = 'FTR'\n",
    "    data_train = data.dropna()\n",
    "    response = data_train[res_var]\n",
    "    data_train = data_train.drop(['FTR', 'FTG','division'] , axis=1)\n",
    "    \n",
    "    # get correlation\n",
    "    cor_vars = correlated_variables(data_train)\n",
    "    #data_train = data_train.drop(cor_vars, axis=1)\n",
    "\n",
    "    x_train, x_test, y_train, y_test = train_test_split(data_train, response, train_size=0.90,\n",
    "                                                        test_size=0.1, random_state=12)\n",
    "    gbm = XGBClassifier().fit(x_train, y_train)\n",
    "    \n",
    "    y_pred = gbm.predict(x_test)\n",
    "    auc = accuracy_score(y_test, y_pred)\n",
    "    \n",
    "    print(\"AUC full model: %.2f%%\" % (auc * 100.0))\n",
    "    \n",
    "    feature_importance = pd.DataFrame({'feature':x_train.columns,\n",
    "                                   'importance':gbm.feature_importances_}).sort_values(by='importance', ascending=False)\n",
    "\n",
    "    plt.subplots(figsize=(15, 12))\n",
    "    sns.barplot(x=\"importance\", y=\"feature\", data=feature_importance.head(30))\n",
    "    plt.title('Features Importance ' + div)\n",
    "    #f.savefig(output_folder + region + '.png', bbox_inches='tight')   # save the figure to file\n",
    "    #plt.close(f)\n",
    "    \n",
    "    #feature_importance.to_csv(output_folder + region + '_importance.txt', index=False)\n",
    "    \n",
    "    features = feature_selection(gbm, feature_importance, x_train, y_train, x_test, y_test,0.01)\n",
    "    \n",
    "    print(features)\n",
    "    \n",
    "    "
   ]
  },
  {
   "cell_type": "code",
   "execution_count": 10,
   "metadata": {},
   "outputs": [
    {
     "name": "stdout",
     "output_type": "stream",
     "text": [
      "\n",
      "Processing EPL\n",
      "Accuracy: 67.44%\n",
      "Thresh=0.000, n=20, Accuracy: 69.77%\n",
      "\n",
      "Processing Bundesliga\n",
      "Accuracy: 67.94%\n",
      "Thresh=0.000, n=28, Accuracy: 70.33%\n",
      "\n",
      "Processing Ligue_1\n",
      "Accuracy: 67.70%\n",
      "Thresh=0.000, n=8, Accuracy: 69.26%\n",
      "\n",
      "Processing La_Liga\n",
      "Accuracy: 67.44%\n",
      "Thresh=0.000, n=10, Accuracy: 68.99%\n",
      "\n",
      "Processing Serie_A\n",
      "Accuracy: 71.65%\n",
      "Thresh=0.000, n=9, Accuracy: 72.80%\n"
     ]
    }
   ],
   "source": [
    "divisions = ['EPL', 'Bundesliga', 'Ligue_1', 'La_Liga', 'Serie_A']\n",
    "#divisions = ['EPL', 'Bundesliga']\n",
    "\n",
    "for div in divisions:\n",
    "    \n",
    "    print()\n",
    "    print(\"Processing \" + div)\n",
    "    \n",
    "    data = df[df.division == div]\n",
    "    \n",
    "    # drop unused variables\n",
    "    #data_train = data_train.drop(cols_to_drop , axis=1)\n",
    "    #data_train = data_train.dropna()\n",
    "    \n",
    "    # drop response variable\n",
    "    res_var = 'FTR'\n",
    "    data_train = data.dropna()\n",
    "    response = data_train[res_var]\n",
    "    data_train = data_train.drop(['FTR', 'FTG','division'] , axis=1)\n",
    "    \n",
    "    # get correlation\n",
    "    cor_vars = correlated_variables(data_train)\n",
    "    #data_train = data_train.drop(cor_vars, axis=1)\n",
    "\n",
    "    x_train, x_test, y_train, y_test = train_test_split(data_train, response, train_size=0.85,test_size=0.15, random_state=12)\n",
    "\n",
    "    # fit model on all training data\n",
    "    model = XGBClassifier()\n",
    "    model.fit(x_train, y_train)\n",
    "    \n",
    "    # make predictions for test data and evaluate\n",
    "    y_pred = model.predict(x_test)\n",
    "    predictions = [round(value) for value in y_pred]\n",
    "    accuracy = accuracy_score(y_test, predictions)\n",
    "    print(\"Accuracy: %.2f%%\" % (accuracy * 100.0))\n",
    "    \n",
    "    accuracy = 0\n",
    "    best_accuracy = 0\n",
    "    number_of_feat = 1\n",
    "    \n",
    "    feature_importance = pd.DataFrame({'feature':x_train.columns,\n",
    "                                   'importance':model.feature_importances_}).sort_values(by='importance', ascending=False)\n",
    "    \n",
    "    # Fit model using each importance as a threshold\n",
    "    thresholds = feature_importance.importance\n",
    "    for thresh in thresholds:\n",
    "                \n",
    "        # select features using threshold\n",
    "        selection = SelectFromModel(model, threshold=thresh, prefit=True)\n",
    "        select_X_train = selection.transform(x_train)\n",
    "        \n",
    "        # train model\n",
    "        selection_model = XGBClassifier()\n",
    "        selection_model.fit(select_X_train, y_train)\n",
    "                \n",
    "        # eval model\n",
    "        select_X_test = selection.transform(x_test)\n",
    "        y_pred = selection_model.predict(select_X_test)\n",
    "        predictions = [round(value) for value in y_pred]\n",
    "        accuracy = accuracy_score(y_test, predictions)\n",
    "        \n",
    "        if best_accuracy < accuracy:\n",
    "            best_accuracy = accuracy\n",
    "            number_of_feat = select_X_train.shape[1]\n",
    "            \n",
    "        \n",
    "    print(\"Thresh=%.3f, n=%d, Accuracy: %.2f%%\" % (thresh, number_of_feat, best_accuracy*100.0))"
   ]
  },
  {
   "cell_type": "code",
   "execution_count": 30,
   "metadata": {},
   "outputs": [],
   "source": [
    "cor_matrix = correlated_variables(data_train)"
   ]
  },
  {
   "cell_type": "code",
   "execution_count": 31,
   "metadata": {},
   "outputs": [
    {
     "data": {
      "text/html": [
       "<div>\n",
       "<style scoped>\n",
       "    .dataframe tbody tr th:only-of-type {\n",
       "        vertical-align: middle;\n",
       "    }\n",
       "\n",
       "    .dataframe tbody tr th {\n",
       "        vertical-align: top;\n",
       "    }\n",
       "\n",
       "    .dataframe thead th {\n",
       "        text-align: right;\n",
       "    }\n",
       "</style>\n",
       "<table border=\"1\" class=\"dataframe\">\n",
       "  <thead>\n",
       "    <tr style=\"text-align: right;\">\n",
       "      <th></th>\n",
       "      <th>variable1</th>\n",
       "      <th>variable2</th>\n",
       "      <th>correlation</th>\n",
       "    </tr>\n",
       "  </thead>\n",
       "  <tbody>\n",
       "    <tr>\n",
       "      <th>203</th>\n",
       "      <td>homeAerialsTotalFT</td>\n",
       "      <td>awayAerialsTotalFT</td>\n",
       "      <td>0.999978</td>\n",
       "    </tr>\n",
       "    <tr>\n",
       "      <th>499</th>\n",
       "      <td>awayAerialsTotalFT</td>\n",
       "      <td>homeAerialsTotalFT</td>\n",
       "      <td>0.999978</td>\n",
       "    </tr>\n",
       "    <tr>\n",
       "      <th>854</th>\n",
       "      <td>awayDribbledPastFT</td>\n",
       "      <td>homeDribblesWonFT</td>\n",
       "      <td>0.999950</td>\n",
       "    </tr>\n",
       "    <tr>\n",
       "      <th>706</th>\n",
       "      <td>homeDribblesWonFT</td>\n",
       "      <td>awayDribbledPastFT</td>\n",
       "      <td>0.999950</td>\n",
       "    </tr>\n",
       "    <tr>\n",
       "      <th>359</th>\n",
       "      <td>awayDribblesWonFT</td>\n",
       "      <td>homeDribbledPastFT</td>\n",
       "      <td>0.999933</td>\n",
       "    </tr>\n",
       "    <tr>\n",
       "      <th>655</th>\n",
       "      <td>homeDribbledPastFT</td>\n",
       "      <td>awayDribblesWonFT</td>\n",
       "      <td>0.999933</td>\n",
       "    </tr>\n",
       "    <tr>\n",
       "      <th>327</th>\n",
       "      <td>homePassesKeyFT</td>\n",
       "      <td>homeShotsTotalFT</td>\n",
       "      <td>0.918260</td>\n",
       "    </tr>\n",
       "    <tr>\n",
       "      <th>882</th>\n",
       "      <td>homeShotsTotalFT</td>\n",
       "      <td>homePassesKeyFT</td>\n",
       "      <td>0.918260</td>\n",
       "    </tr>\n",
       "    <tr>\n",
       "      <th>569</th>\n",
       "      <td>awayPassesKeyFT</td>\n",
       "      <td>awayShotsTotalFT</td>\n",
       "      <td>0.912058</td>\n",
       "    </tr>\n",
       "    <tr>\n",
       "      <th>1420</th>\n",
       "      <td>awayShotsTotalFT</td>\n",
       "      <td>awayPassesKeyFT</td>\n",
       "      <td>0.912058</td>\n",
       "    </tr>\n",
       "    <tr>\n",
       "      <th>1250</th>\n",
       "      <td>awayTacklesTotalFT</td>\n",
       "      <td>homeDribblesAttemptedFT</td>\n",
       "      <td>0.850022</td>\n",
       "    </tr>\n",
       "    <tr>\n",
       "      <th>1324</th>\n",
       "      <td>homeDribblesAttemptedFT</td>\n",
       "      <td>awayTacklesTotalFT</td>\n",
       "      <td>0.850022</td>\n",
       "    </tr>\n",
       "    <tr>\n",
       "      <th>1168</th>\n",
       "      <td>awayDribblesAttemptedFT</td>\n",
       "      <td>homeTacklesTotalFT</td>\n",
       "      <td>0.847249</td>\n",
       "    </tr>\n",
       "    <tr>\n",
       "      <th>1094</th>\n",
       "      <td>homeTacklesTotalFT</td>\n",
       "      <td>awayDribblesAttemptedFT</td>\n",
       "      <td>0.847249</td>\n",
       "    </tr>\n",
       "    <tr>\n",
       "      <th>1314</th>\n",
       "      <td>homeDribblesAttemptedFT</td>\n",
       "      <td>awayDribbledPastFT</td>\n",
       "      <td>0.766548</td>\n",
       "    </tr>\n",
       "    <tr>\n",
       "      <th>870</th>\n",
       "      <td>awayDribbledPastFT</td>\n",
       "      <td>homeDribblesAttemptedFT</td>\n",
       "      <td>0.766548</td>\n",
       "    </tr>\n",
       "    <tr>\n",
       "      <th>718</th>\n",
       "      <td>homeDribblesWonFT</td>\n",
       "      <td>homeDribblesAttemptedFT</td>\n",
       "      <td>0.766298</td>\n",
       "    </tr>\n",
       "    <tr>\n",
       "      <th>1310</th>\n",
       "      <td>homeDribblesAttemptedFT</td>\n",
       "      <td>homeDribblesWonFT</td>\n",
       "      <td>0.766298</td>\n",
       "    </tr>\n",
       "    <tr>\n",
       "      <th>1256</th>\n",
       "      <td>homeRatingsFT</td>\n",
       "      <td>awayRatingsFT</td>\n",
       "      <td>0.765789</td>\n",
       "    </tr>\n",
       "    <tr>\n",
       "      <th>109</th>\n",
       "      <td>awayRatingsFT</td>\n",
       "      <td>homeRatingsFT</td>\n",
       "      <td>0.765789</td>\n",
       "    </tr>\n",
       "  </tbody>\n",
       "</table>\n",
       "</div>"
      ],
      "text/plain": [
       "                    variable1                variable2  correlation\n",
       "203        homeAerialsTotalFT       awayAerialsTotalFT     0.999978\n",
       "499        awayAerialsTotalFT       homeAerialsTotalFT     0.999978\n",
       "854        awayDribbledPastFT        homeDribblesWonFT     0.999950\n",
       "706         homeDribblesWonFT       awayDribbledPastFT     0.999950\n",
       "359         awayDribblesWonFT       homeDribbledPastFT     0.999933\n",
       "655        homeDribbledPastFT        awayDribblesWonFT     0.999933\n",
       "327           homePassesKeyFT         homeShotsTotalFT     0.918260\n",
       "882          homeShotsTotalFT          homePassesKeyFT     0.918260\n",
       "569           awayPassesKeyFT         awayShotsTotalFT     0.912058\n",
       "1420         awayShotsTotalFT          awayPassesKeyFT     0.912058\n",
       "1250       awayTacklesTotalFT  homeDribblesAttemptedFT     0.850022\n",
       "1324  homeDribblesAttemptedFT       awayTacklesTotalFT     0.850022\n",
       "1168  awayDribblesAttemptedFT       homeTacklesTotalFT     0.847249\n",
       "1094       homeTacklesTotalFT  awayDribblesAttemptedFT     0.847249\n",
       "1314  homeDribblesAttemptedFT       awayDribbledPastFT     0.766548\n",
       "870        awayDribbledPastFT  homeDribblesAttemptedFT     0.766548\n",
       "718         homeDribblesWonFT  homeDribblesAttemptedFT     0.766298\n",
       "1310  homeDribblesAttemptedFT        homeDribblesWonFT     0.766298\n",
       "1256            homeRatingsFT            awayRatingsFT     0.765789\n",
       "109             awayRatingsFT            homeRatingsFT     0.765789"
      ]
     },
     "execution_count": 31,
     "metadata": {},
     "output_type": "execute_result"
    }
   ],
   "source": [
    "cor_matrix.head(20)"
   ]
  },
  {
   "cell_type": "markdown",
   "metadata": {},
   "source": [
    "### Combine all top 5 "
   ]
  },
  {
   "cell_type": "code",
   "execution_count": 32,
   "metadata": {},
   "outputs": [
    {
     "name": "stdout",
     "output_type": "stream",
     "text": [
      "Accuracy: 72.20%\n"
     ]
    },
    {
     "data": {
      "text/plain": [
       "Text(0.5, 1.0, 'Features Importance ')"
      ]
     },
     "execution_count": 32,
     "metadata": {},
     "output_type": "execute_result"
    },
    {
     "data": {
      "image/png": "[encoded data removed]",
      "text/plain": [
       "<Figure size 1080x864 with 1 Axes>"
      ]
     },
     "metadata": {
      "needs_background": "light"
     },
     "output_type": "display_data"
    }
   ],
   "source": [
    "\n",
    "# split data into train and test sets\n",
    "# drop response variable\n",
    "res_var = 'FTR'\n",
    "data_train = df.dropna()\n",
    "response = data_train[res_var]\n",
    "data_train = data_train.drop(['FTR', 'FTG','division'] , axis=1)\n",
    "\n",
    "X_train, X_test, y_train, y_test = train_test_split(data_train, response, train_size=0.85,test_size=0.15, random_state=12)\n",
    "\n",
    "# fit model on all training data\n",
    "model = XGBClassifier()\n",
    "model.fit(X_train, y_train)\n",
    "\n",
    "# make predictions for test data and evaluate\n",
    "y_pred = model.predict(X_test)\n",
    "predictions = [round(value) for value in y_pred]\n",
    "accuracy = accuracy_score(y_test, predictions)\n",
    "print(\"Accuracy: %.2f%%\" % (accuracy * 100.0))\n",
    "\n",
    "feature_importance = pd.DataFrame({'feature':X_train.columns,\n",
    "                                   'importance':model.feature_importances_}).sort_values(by='importance', ascending=False)\n",
    "plt.subplots(figsize=(15, 12))\n",
    "sns.barplot(x=\"importance\", y=\"feature\", data=feature_importance.head(30))\n",
    "plt.title('Features Importance ')"
   ]
  },
  {
   "cell_type": "code",
   "execution_count": 37,
   "metadata": {},
   "outputs": [
    {
     "name": "stdout",
     "output_type": "stream",
     "text": [
      "Thresh=0.139, n=2, Accuracy: 69.94%\n",
      "Thresh=0.101, n=3, Accuracy: 69.62%\n",
      "Thresh=0.098, n=4, Accuracy: 72.04%\n",
      "Thresh=0.045, n=5, Accuracy: 71.96%\n",
      "Thresh=0.034, n=6, Accuracy: 72.68%\n",
      "Thresh=0.033, n=7, Accuracy: 72.36%\n",
      "Thresh=0.031, n=8, Accuracy: 72.52%\n",
      "Thresh=0.030, n=9, Accuracy: 72.04%\n",
      "Thresh=0.029, n=10, Accuracy: 71.72%\n"
     ]
    }
   ],
   "source": [
    "# Fit model using each importance as a threshold\n",
    "#thresholds = sort(model.feature_importances_)\n",
    "thresholds = feature_importance.importance\n",
    "\n",
    "for thresh in thresholds[1:10]:\n",
    "\t# select features using threshold\n",
    "\tselection = SelectFromModel(model, threshold=thresh, prefit=True)\n",
    "\tselect_X_train = selection.transform(X_train)\n",
    "\t# train model\n",
    "\tselection_model = XGBClassifier()\n",
    "\tselection_model.fit(select_X_train, y_train)\n",
    "\t# eval model\n",
    "\tselect_X_test = selection.transform(X_test)\n",
    "\ty_pred = selection_model.predict(select_X_test)\n",
    "\tpredictions = [round(value) for value in y_pred]\n",
    "\taccuracy = accuracy_score(y_test, predictions)\n",
    "\tprint(\"Thresh=%.3f, n=%d, Accuracy: %.2f%%\" % (thresh, select_X_train.shape[1], accuracy*100.0))"
   ]
  },
  {
   "cell_type": "code",
   "execution_count": 19,
   "metadata": {},
   "outputs": [
    {
     "data": {
      "text/plain": [
       "33           homeRatingsFT\n",
       "2            awayRatingsFT\n",
       "27     homeShotsOnTargetFT\n",
       "6      awayShotsOnTargetFT\n",
       "15        homePossessionFT\n",
       "3     awayDribbleSuccessFT\n",
       "16     awayInterceptionsFT\n",
       "Name: feature, dtype: object"
      ]
     },
     "execution_count": 19,
     "metadata": {},
     "output_type": "execute_result"
    }
   ],
   "source": [
    "sel_var = feature_importance.feature[:7]\n",
    "sel_var "
   ]
  },
  {
   "cell_type": "code",
   "execution_count": 54,
   "metadata": {},
   "outputs": [
    {
     "data": {
      "text/html": [
       "<div>\n",
       "<style scoped>\n",
       "    .dataframe tbody tr th:only-of-type {\n",
       "        vertical-align: middle;\n",
       "    }\n",
       "\n",
       "    .dataframe tbody tr th {\n",
       "        vertical-align: top;\n",
       "    }\n",
       "\n",
       "    .dataframe thead th {\n",
       "        text-align: right;\n",
       "    }\n",
       "</style>\n",
       "<table border=\"1\" class=\"dataframe\">\n",
       "  <thead>\n",
       "    <tr style=\"text-align: right;\">\n",
       "      <th></th>\n",
       "      <th>variable1</th>\n",
       "      <th>variable2</th>\n",
       "      <th>correlation</th>\n",
       "    </tr>\n",
       "  </thead>\n",
       "  <tbody>\n",
       "    <tr>\n",
       "      <th>740</th>\n",
       "      <td>awayTackleSuccessFT</td>\n",
       "      <td>homeDribblesWonFT</td>\n",
       "      <td>0.737310</td>\n",
       "    </tr>\n",
       "    <tr>\n",
       "      <th>744</th>\n",
       "      <td>awayTackleSuccessFT</td>\n",
       "      <td>awayDribbledPastFT</td>\n",
       "      <td>0.737109</td>\n",
       "    </tr>\n",
       "    <tr>\n",
       "      <th>734</th>\n",
       "      <td>awayTackleSuccessFT</td>\n",
       "      <td>homeDribbleSuccessFT</td>\n",
       "      <td>0.703614</td>\n",
       "    </tr>\n",
       "    <tr>\n",
       "      <th>109</th>\n",
       "      <td>awayRatingsFT</td>\n",
       "      <td>homeRatingsFT</td>\n",
       "      <td>0.670112</td>\n",
       "    </tr>\n",
       "    <tr>\n",
       "      <th>1256</th>\n",
       "      <td>homeRatingsFT</td>\n",
       "      <td>awayRatingsFT</td>\n",
       "      <td>0.670112</td>\n",
       "    </tr>\n",
       "    <tr>\n",
       "      <th>1049</th>\n",
       "      <td>homeShotsOnTargetFT</td>\n",
       "      <td>homeShotsTotalFT</td>\n",
       "      <td>0.666887</td>\n",
       "    </tr>\n",
       "    <tr>\n",
       "      <th>265</th>\n",
       "      <td>awayShotsOnTargetFT</td>\n",
       "      <td>awayShotsTotalFT</td>\n",
       "      <td>0.657898</td>\n",
       "    </tr>\n",
       "    <tr>\n",
       "      <th>1034</th>\n",
       "      <td>homeShotsOnTargetFT</td>\n",
       "      <td>homePassesKeyFT</td>\n",
       "      <td>0.627178</td>\n",
       "    </tr>\n",
       "    <tr>\n",
       "      <th>242</th>\n",
       "      <td>awayShotsOnTargetFT</td>\n",
       "      <td>awayPassesKeyFT</td>\n",
       "      <td>0.609714</td>\n",
       "    </tr>\n",
       "  </tbody>\n",
       "</table>\n",
       "</div>"
      ],
      "text/plain": [
       "                variable1             variable2  correlation\n",
       "740   awayTackleSuccessFT     homeDribblesWonFT     0.737310\n",
       "744   awayTackleSuccessFT    awayDribbledPastFT     0.737109\n",
       "734   awayTackleSuccessFT  homeDribbleSuccessFT     0.703614\n",
       "109         awayRatingsFT         homeRatingsFT     0.670112\n",
       "1256        homeRatingsFT         awayRatingsFT     0.670112\n",
       "1049  homeShotsOnTargetFT      homeShotsTotalFT     0.666887\n",
       "265   awayShotsOnTargetFT      awayShotsTotalFT     0.657898\n",
       "1034  homeShotsOnTargetFT       homePassesKeyFT     0.627178\n",
       "242   awayShotsOnTargetFT       awayPassesKeyFT     0.609714"
      ]
     },
     "execution_count": 54,
     "metadata": {},
     "output_type": "execute_result"
    }
   ],
   "source": [
    "cor_vars = correlated_variables(data_train, 0.5)\n",
    "cor_vars[cor_vars['variable1'].isin(sel_var)]"
   ]
  },
  {
   "cell_type": "code",
   "execution_count": null,
   "metadata": {},
   "outputs": [],
   "source": []
  }
 ],
 "metadata": {
  "kernelspec": {
   "display_name": "Python 3",
   "language": "python",
   "name": "python3"
  },
  "language_info": {
   "codemirror_mode": {
    "name": "ipython",
    "version": 3
   },
   "file_extension": ".py",
   "mimetype": "text/x-python",
   "name": "python",
   "nbconvert_exporter": "python",
   "pygments_lexer": "ipython3",
   "version": "3.6.6"
  }
 },
 "nbformat": 4,
 "nbformat_minor": 2
}
